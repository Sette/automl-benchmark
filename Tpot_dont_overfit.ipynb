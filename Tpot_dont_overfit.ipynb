{
 "cells": [
  {
   "cell_type": "code",
   "execution_count": 7,
   "metadata": {},
   "outputs": [],
   "source": [
    "from tpot import TPOTClassifier\n",
    "from fi_utils import load_dont_overfit\n",
    "from sklearn.model_selection import train_test_split"
   ]
  },
  {
   "cell_type": "code",
   "execution_count": 8,
   "metadata": {},
   "outputs": [],
   "source": [
    "X_train, X_test, y_train = load_dont_overfit()\n"
   ]
  },
  {
   "cell_type": "code",
   "execution_count": 9,
   "metadata": {},
   "outputs": [
    {
     "name": "stderr",
     "output_type": "stream",
     "text": [
      "/home/bruno/anaconda3/envs/auto-ml/lib/python3.7/site-packages/sklearn/ensemble/weight_boosting.py:29: DeprecationWarning: numpy.core.umath_tests is an internal NumPy module and should not be imported. It will be removed in a future NumPy release.\n",
      "  from numpy.core.umath_tests import inner1d\n"
     ]
    },
    {
     "data": {
      "application/vnd.jupyter.widget-view+json": {
       "model_id": "",
       "version_major": 2,
       "version_minor": 0
      },
      "text/plain": [
       "HBox(children=(IntProgress(value=0, description='Optimization Progress', max=10100, style=ProgressStyle(descri…"
      ]
     },
     "metadata": {},
     "output_type": "display_data"
    },
    {
     "name": "stdout",
     "output_type": "stream",
     "text": [
      "Generation 1 - Current best internal CV score: 0.732\n",
      "Generation 2 - Current best internal CV score: 0.7479999999999999\n",
      "Generation 3 - Current best internal CV score: 0.7479999999999999\n",
      "Generation 4 - Current best internal CV score: 0.7479999999999999\n",
      "Generation 5 - Current best internal CV score: 0.764\n",
      "Generation 6 - Current best internal CV score: 0.772\n",
      "Generation 7 - Current best internal CV score: 0.772\n",
      "Generation 8 - Current best internal CV score: 0.772\n",
      "Generation 9 - Current best internal CV score: 0.772\n",
      "Generation 10 - Current best internal CV score: 0.772\n",
      "Generation 11 - Current best internal CV score: 0.7759999999999999\n",
      "Generation 12 - Current best internal CV score: 0.78\n",
      "Generation 13 - Current best internal CV score: 0.784\n",
      "Generation 14 - Current best internal CV score: 0.784\n",
      "Generation 15 - Current best internal CV score: 0.784\n",
      "Generation 16 - Current best internal CV score: 0.7919999999999999\n",
      "Generation 17 - Current best internal CV score: 0.7919999999999999\n",
      "Generation 18 - Current best internal CV score: 0.7919999999999999\n",
      "Generation 19 - Current best internal CV score: 0.7919999999999999\n",
      "Generation 20 - Current best internal CV score: 0.792\n",
      "Generation 21 - Current best internal CV score: 0.792\n",
      "Generation 22 - Current best internal CV score: 0.8039999999999999\n",
      "Generation 23 - Current best internal CV score: 0.8039999999999999\n",
      "Generation 24 - Current best internal CV score: 0.8039999999999999\n",
      "Generation 25 - Current best internal CV score: 0.8039999999999999\n",
      "Generation 26 - Current best internal CV score: 0.8039999999999999\n",
      "Generation 27 - Current best internal CV score: 0.8039999999999999\n",
      "Generation 28 - Current best internal CV score: 0.8039999999999999\n",
      "Generation 29 - Current best internal CV score: 0.8039999999999999\n",
      "Generation 30 - Current best internal CV score: 0.8039999999999999\n",
      "Generation 31 - Current best internal CV score: 0.8039999999999999\n",
      "Generation 32 - Current best internal CV score: 0.8039999999999999\n",
      "Generation 33 - Current best internal CV score: 0.8039999999999999\n",
      "Generation 34 - Current best internal CV score: 0.8039999999999999\n",
      "Generation 35 - Current best internal CV score: 0.8039999999999999\n",
      "Generation 36 - Current best internal CV score: 0.8039999999999999\n",
      "Generation 37 - Current best internal CV score: 0.8039999999999999\n",
      "Generation 38 - Current best internal CV score: 0.8039999999999999\n",
      "Generation 39 - Current best internal CV score: 0.8039999999999999\n",
      "Generation 40 - Current best internal CV score: 0.8039999999999999\n",
      "Generation 41 - Current best internal CV score: 0.8039999999999999\n",
      "Generation 42 - Current best internal CV score: 0.8039999999999999\n",
      "Generation 43 - Current best internal CV score: 0.8039999999999999\n",
      "Generation 44 - Current best internal CV score: 0.8039999999999999\n",
      "Generation 45 - Current best internal CV score: 0.8039999999999999\n",
      "Generation 46 - Current best internal CV score: 0.8039999999999999\n",
      "Generation 47 - Current best internal CV score: 0.8039999999999999\n",
      "Generation 48 - Current best internal CV score: 0.8039999999999999\n",
      "Generation 49 - Current best internal CV score: 0.8039999999999999\n",
      "Generation 50 - Current best internal CV score: 0.8039999999999999\n",
      "Generation 51 - Current best internal CV score: 0.8039999999999999\n",
      "Generation 52 - Current best internal CV score: 0.8039999999999999\n",
      "Generation 53 - Current best internal CV score: 0.8039999999999999\n",
      "Generation 54 - Current best internal CV score: 0.8039999999999999\n",
      "Generation 55 - Current best internal CV score: 0.8039999999999999\n",
      "Generation 56 - Current best internal CV score: 0.8039999999999999\n",
      "Generation 57 - Current best internal CV score: 0.8039999999999999\n",
      "Generation 58 - Current best internal CV score: 0.8039999999999999\n",
      "Generation 59 - Current best internal CV score: 0.8039999999999999\n",
      "Generation 60 - Current best internal CV score: 0.8039999999999999\n",
      "Generation 61 - Current best internal CV score: 0.8039999999999999\n",
      "Generation 62 - Current best internal CV score: 0.8039999999999999\n",
      "Generation 63 - Current best internal CV score: 0.8039999999999999\n",
      "Generation 64 - Current best internal CV score: 0.8039999999999999\n",
      "Generation 65 - Current best internal CV score: 0.8039999999999999\n",
      "Generation 66 - Current best internal CV score: 0.8039999999999999\n",
      "Generation 67 - Current best internal CV score: 0.8039999999999999\n",
      "Generation 68 - Current best internal CV score: 0.8039999999999999\n",
      "Generation 69 - Current best internal CV score: 0.8039999999999999\n",
      "Generation 70 - Current best internal CV score: 0.8039999999999999\n",
      "Generation 71 - Current best internal CV score: 0.8039999999999999\n",
      "Generation 72 - Current best internal CV score: 0.8039999999999999\n",
      "Generation 73 - Current best internal CV score: 0.8039999999999999\n",
      "Generation 74 - Current best internal CV score: 0.8039999999999999\n",
      "Generation 75 - Current best internal CV score: 0.8039999999999999\n",
      "Generation 76 - Current best internal CV score: 0.8039999999999999\n",
      "Generation 77 - Current best internal CV score: 0.8039999999999999\n",
      "Generation 78 - Current best internal CV score: 0.8039999999999999\n",
      "Generation 79 - Current best internal CV score: 0.8039999999999999\n",
      "Generation 80 - Current best internal CV score: 0.8039999999999999\n",
      "Generation 81 - Current best internal CV score: 0.8039999999999999\n",
      "Generation 82 - Current best internal CV score: 0.8039999999999999\n",
      "Generation 83 - Current best internal CV score: 0.8039999999999999\n",
      "Generation 84 - Current best internal CV score: 0.8039999999999999\n",
      "Generation 85 - Current best internal CV score: 0.8039999999999999\n",
      "Generation 86 - Current best internal CV score: 0.8039999999999999\n",
      "Generation 87 - Current best internal CV score: 0.8039999999999999\n",
      "Generation 88 - Current best internal CV score: 0.8039999999999999\n",
      "Generation 89 - Current best internal CV score: 0.8039999999999999\n",
      "Generation 90 - Current best internal CV score: 0.8039999999999999\n",
      "Generation 91 - Current best internal CV score: 0.8039999999999999\n",
      "Generation 92 - Current best internal CV score: 0.8039999999999999\n",
      "Generation 93 - Current best internal CV score: 0.8039999999999999\n",
      "Generation 94 - Current best internal CV score: 0.8039999999999999\n",
      "Generation 95 - Current best internal CV score: 0.8039999999999999\n",
      "Generation 96 - Current best internal CV score: 0.8039999999999999\n",
      "Generation 97 - Current best internal CV score: 0.8039999999999999\n",
      "Generation 98 - Current best internal CV score: 0.8039999999999999\n",
      "Generation 99 - Current best internal CV score: 0.8039999999999999\n",
      "Generation 100 - Current best internal CV score: 0.8039999999999999\n",
      "\n",
      "Best pipeline: LogisticRegression(RFE(StandardScaler(RFE(input_matrix, criterion=entropy, max_features=0.2, n_estimators=100, step=0.7000000000000001)), criterion=gini, max_features=0.8, n_estimators=100, step=0.4), C=1.0, dual=False, penalty=l1)\n"
     ]
    },
    {
     "ename": "NameError",
     "evalue": "name 'y_test' is not defined",
     "output_type": "error",
     "traceback": [
      "\u001b[0;31m---------------------------------------------------------------------------\u001b[0m",
      "\u001b[0;31mNameError\u001b[0m                                 Traceback (most recent call last)",
      "\u001b[0;32m<ipython-input-9-ed18a1346f1f>\u001b[0m in \u001b[0;36m<module>\u001b[0;34m\u001b[0m\n\u001b[1;32m      1\u001b[0m \u001b[0mpipeline_optimizer\u001b[0m \u001b[0;34m=\u001b[0m \u001b[0mTPOTClassifier\u001b[0m\u001b[0;34m(\u001b[0m\u001b[0mverbosity\u001b[0m\u001b[0;34m=\u001b[0m\u001b[0;36m2\u001b[0m\u001b[0;34m)\u001b[0m\u001b[0;34m\u001b[0m\u001b[0;34m\u001b[0m\u001b[0m\n\u001b[1;32m      2\u001b[0m \u001b[0mpipeline_optimizer\u001b[0m\u001b[0;34m.\u001b[0m\u001b[0mfit\u001b[0m\u001b[0;34m(\u001b[0m\u001b[0mX_train\u001b[0m\u001b[0;34m,\u001b[0m \u001b[0my_train\u001b[0m\u001b[0;34m)\u001b[0m\u001b[0;34m\u001b[0m\u001b[0;34m\u001b[0m\u001b[0m\n\u001b[0;32m----> 3\u001b[0;31m \u001b[0mprint\u001b[0m\u001b[0;34m(\u001b[0m\u001b[0mpipeline_optimizer\u001b[0m\u001b[0;34m.\u001b[0m\u001b[0mscore\u001b[0m\u001b[0;34m(\u001b[0m\u001b[0mX_test\u001b[0m\u001b[0;34m,\u001b[0m \u001b[0my_test\u001b[0m\u001b[0;34m)\u001b[0m\u001b[0;34m)\u001b[0m\u001b[0;34m\u001b[0m\u001b[0;34m\u001b[0m\u001b[0m\n\u001b[0m\u001b[1;32m      4\u001b[0m \u001b[0mpipeline_optimizer\u001b[0m\u001b[0;34m.\u001b[0m\u001b[0mexport\u001b[0m\u001b[0;34m(\u001b[0m\u001b[0;34m'tpot_pipeline_dont_overfit.py'\u001b[0m\u001b[0;34m)\u001b[0m\u001b[0;34m\u001b[0m\u001b[0;34m\u001b[0m\u001b[0m\n",
      "\u001b[0;31mNameError\u001b[0m: name 'y_test' is not defined"
     ]
    }
   ],
   "source": [
    "pipeline_optimizer = TPOTClassifier(verbosity=2)\n",
    "pipeline_optimizer.fit(X_train, y_train)"
   ]
  },
  {
   "cell_type": "code",
   "execution_count": 10,
   "metadata": {},
   "outputs": [],
   "source": [
    "pipeline_optimizer.export('tpot_pipeline_dont_overfit.py')"
   ]
  },
  {
   "cell_type": "code",
   "execution_count": 11,
   "metadata": {},
   "outputs": [],
   "source": [
    "preds = pipeline_optimizer.predict(X_test)"
   ]
  },
  {
   "cell_type": "code",
   "execution_count": 15,
   "metadata": {},
   "outputs": [],
   "source": [
    "import pandas as pd\n",
    "submission_tpot = pd.DataFrame({\n",
    "        \"id\": X_test[\"id\"],\n",
    "        \"target\": preds\n",
    "    })\n",
    "\n",
    "submission_tpot.to_csv('submission_tpot.csv', index=False)\n",
    "\n",
    "#print(\"Accuracy score\", sklearn.metrics.accuracy_score(y_test, predictions))"
   ]
  },
  {
   "cell_type": "code",
   "execution_count": null,
   "metadata": {},
   "outputs": [],
   "source": []
  }
 ],
 "metadata": {
  "kernelspec": {
   "display_name": "Python 3",
   "language": "python",
   "name": "python3"
  },
  "language_info": {
   "codemirror_mode": {
    "name": "ipython",
    "version": 3
   },
   "file_extension": ".py",
   "mimetype": "text/x-python",
   "name": "python",
   "nbconvert_exporter": "python",
   "pygments_lexer": "ipython3",
   "version": "3.7.3"
  }
 },
 "nbformat": 4,
 "nbformat_minor": 2
}
