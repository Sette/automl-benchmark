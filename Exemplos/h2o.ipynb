{
 "cells": [
  {
   "cell_type": "code",
   "execution_count": 2,
   "metadata": {},
   "outputs": [],
   "source": [
    "import h2o"
   ]
  },
  {
   "cell_type": "code",
   "execution_count": 3,
   "metadata": {},
   "outputs": [
    {
     "name": "stdout",
     "output_type": "stream",
     "text": [
      "Checking whether there is an H2O instance running at http://localhost:54321 . connected.\n"
     ]
    },
    {
     "data": {
      "text/html": [
       "<div style=\"overflow:auto\"><table style=\"width:50%\"><tr><td>H2O cluster uptime:</td>\n",
       "<td>1 min 57 secs</td></tr>\n",
       "<tr><td>H2O cluster timezone:</td>\n",
       "<td>America/Sao_Paulo</td></tr>\n",
       "<tr><td>H2O data parsing timezone:</td>\n",
       "<td>UTC</td></tr>\n",
       "<tr><td>H2O cluster version:</td>\n",
       "<td>3.24.0.3</td></tr>\n",
       "<tr><td>H2O cluster version age:</td>\n",
       "<td>6 days </td></tr>\n",
       "<tr><td>H2O cluster name:</td>\n",
       "<td>H2O_from_python_bruno_2ea3oe</td></tr>\n",
       "<tr><td>H2O cluster total nodes:</td>\n",
       "<td>1</td></tr>\n",
       "<tr><td>H2O cluster free memory:</td>\n",
       "<td>1.311 Gb</td></tr>\n",
       "<tr><td>H2O cluster total cores:</td>\n",
       "<td>4</td></tr>\n",
       "<tr><td>H2O cluster allowed cores:</td>\n",
       "<td>4</td></tr>\n",
       "<tr><td>H2O cluster status:</td>\n",
       "<td>locked, healthy</td></tr>\n",
       "<tr><td>H2O connection url:</td>\n",
       "<td>http://localhost:54321</td></tr>\n",
       "<tr><td>H2O connection proxy:</td>\n",
       "<td>None</td></tr>\n",
       "<tr><td>H2O internal security:</td>\n",
       "<td>False</td></tr>\n",
       "<tr><td>H2O API Extensions:</td>\n",
       "<td>Amazon S3, XGBoost, Algos, AutoML, Core V3, Core V4</td></tr>\n",
       "<tr><td>Python version:</td>\n",
       "<td>3.6.8 final</td></tr></table></div>"
      ],
      "text/plain": [
       "--------------------------  ---------------------------------------------------\n",
       "H2O cluster uptime:         1 min 57 secs\n",
       "H2O cluster timezone:       America/Sao_Paulo\n",
       "H2O data parsing timezone:  UTC\n",
       "H2O cluster version:        3.24.0.3\n",
       "H2O cluster version age:    6 days\n",
       "H2O cluster name:           H2O_from_python_bruno_2ea3oe\n",
       "H2O cluster total nodes:    1\n",
       "H2O cluster free memory:    1.311 Gb\n",
       "H2O cluster total cores:    4\n",
       "H2O cluster allowed cores:  4\n",
       "H2O cluster status:         locked, healthy\n",
       "H2O connection url:         http://localhost:54321\n",
       "H2O connection proxy:\n",
       "H2O internal security:      False\n",
       "H2O API Extensions:         Amazon S3, XGBoost, Algos, AutoML, Core V3, Core V4\n",
       "Python version:             3.6.8 final\n",
       "--------------------------  ---------------------------------------------------"
      ]
     },
     "metadata": {},
     "output_type": "display_data"
    }
   ],
   "source": [
    "from h2o.automl import H2OAutoML\n",
    "\n",
    "h2o.init()\n"
   ]
  },
  {
   "cell_type": "code",
   "execution_count": 4,
   "metadata": {},
   "outputs": [
    {
     "name": "stdout",
     "output_type": "stream",
     "text": [
      "Parse progress: |█████████████████████████████████████████████████████████| 100%\n",
      "Parse progress: |█████████████████████████████████████████████████████████| 100%\n",
      "AutoML progress: |████████████████████████████████████████████████████████| 100%\n"
     ]
    },
    {
     "data": {
      "text/html": [
       "<table>\n",
       "<thead>\n",
       "<tr><th>model_id                                           </th><th style=\"text-align: right;\">     auc</th><th style=\"text-align: right;\">  logloss</th><th style=\"text-align: right;\">  mean_per_class_error</th><th style=\"text-align: right;\">    rmse</th><th style=\"text-align: right;\">     mse</th></tr>\n",
       "</thead>\n",
       "<tbody>\n",
       "<tr><td>StackedEnsemble_AllModels_AutoML_20190513_124506   </td><td style=\"text-align: right;\">0.78855 </td><td style=\"text-align: right;\"> 0.552741</td><td style=\"text-align: right;\">              0.324078</td><td style=\"text-align: right;\">0.432829</td><td style=\"text-align: right;\">0.187341</td></tr>\n",
       "<tr><td>StackedEnsemble_BestOfFamily_AutoML_20190513_124506</td><td style=\"text-align: right;\">0.786816</td><td style=\"text-align: right;\"> 0.554564</td><td style=\"text-align: right;\">              0.331   </td><td style=\"text-align: right;\">0.433602</td><td style=\"text-align: right;\">0.188011</td></tr>\n",
       "<tr><td>XGBoost_grid_1_AutoML_20190513_124506_model_3      </td><td style=\"text-align: right;\">0.784588</td><td style=\"text-align: right;\"> 0.558405</td><td style=\"text-align: right;\">              0.319401</td><td style=\"text-align: right;\">0.435012</td><td style=\"text-align: right;\">0.189235</td></tr>\n",
       "<tr><td>XGBoost_1_AutoML_20190513_124506                   </td><td style=\"text-align: right;\">0.782782</td><td style=\"text-align: right;\"> 0.557031</td><td style=\"text-align: right;\">              0.331908</td><td style=\"text-align: right;\">0.43506 </td><td style=\"text-align: right;\">0.189277</td></tr>\n",
       "<tr><td>XGBoost_grid_1_AutoML_20190513_124506_model_4      </td><td style=\"text-align: right;\">0.782774</td><td style=\"text-align: right;\"> 0.558375</td><td style=\"text-align: right;\">              0.316151</td><td style=\"text-align: right;\">0.435543</td><td style=\"text-align: right;\">0.189697</td></tr>\n",
       "<tr><td>XGBoost_3_AutoML_20190513_124506                   </td><td style=\"text-align: right;\">0.782434</td><td style=\"text-align: right;\"> 0.563499</td><td style=\"text-align: right;\">              0.340872</td><td style=\"text-align: right;\">0.437216</td><td style=\"text-align: right;\">0.191158</td></tr>\n",
       "<tr><td>XGBoost_2_AutoML_20190513_124506                   </td><td style=\"text-align: right;\">0.781621</td><td style=\"text-align: right;\"> 0.559814</td><td style=\"text-align: right;\">              0.326049</td><td style=\"text-align: right;\">0.436018</td><td style=\"text-align: right;\">0.190112</td></tr>\n",
       "<tr><td>GBM_5_AutoML_20190513_124506                       </td><td style=\"text-align: right;\">0.780837</td><td style=\"text-align: right;\"> 0.559903</td><td style=\"text-align: right;\">              0.340848</td><td style=\"text-align: right;\">0.436191</td><td style=\"text-align: right;\">0.190263</td></tr>\n",
       "<tr><td>GBM_2_AutoML_20190513_124506                       </td><td style=\"text-align: right;\">0.780036</td><td style=\"text-align: right;\"> 0.559806</td><td style=\"text-align: right;\">              0.339926</td><td style=\"text-align: right;\">0.436415</td><td style=\"text-align: right;\">0.190458</td></tr>\n",
       "<tr><td>GBM_1_AutoML_20190513_124506                       </td><td style=\"text-align: right;\">0.779827</td><td style=\"text-align: right;\"> 0.560857</td><td style=\"text-align: right;\">              0.335096</td><td style=\"text-align: right;\">0.436616</td><td style=\"text-align: right;\">0.190633</td></tr>\n",
       "<tr><td>GBM_3_AutoML_20190513_124506                       </td><td style=\"text-align: right;\">0.778669</td><td style=\"text-align: right;\"> 0.56179 </td><td style=\"text-align: right;\">              0.325538</td><td style=\"text-align: right;\">0.437189</td><td style=\"text-align: right;\">0.191134</td></tr>\n",
       "<tr><td>XGBoost_grid_1_AutoML_20190513_124506_model_1      </td><td style=\"text-align: right;\">0.774614</td><td style=\"text-align: right;\"> 0.573588</td><td style=\"text-align: right;\">              0.333369</td><td style=\"text-align: right;\">0.441851</td><td style=\"text-align: right;\">0.195233</td></tr>\n",
       "<tr><td>GBM_4_AutoML_20190513_124506                       </td><td style=\"text-align: right;\">0.771426</td><td style=\"text-align: right;\"> 0.569712</td><td style=\"text-align: right;\">              0.33742 </td><td style=\"text-align: right;\">0.44107 </td><td style=\"text-align: right;\">0.194543</td></tr>\n",
       "<tr><td>GBM_grid_1_AutoML_20190513_124506_model_1          </td><td style=\"text-align: right;\">0.769752</td><td style=\"text-align: right;\"> 0.572583</td><td style=\"text-align: right;\">              0.344331</td><td style=\"text-align: right;\">0.442452</td><td style=\"text-align: right;\">0.195764</td></tr>\n",
       "<tr><td>XGBoost_grid_1_AutoML_20190513_124506_model_2      </td><td style=\"text-align: right;\">0.767817</td><td style=\"text-align: right;\"> 0.582107</td><td style=\"text-align: right;\">              0.343244</td><td style=\"text-align: right;\">0.446227</td><td style=\"text-align: right;\">0.199118</td></tr>\n",
       "<tr><td>GBM_grid_1_AutoML_20190513_124506_model_2          </td><td style=\"text-align: right;\">0.754366</td><td style=\"text-align: right;\"> 0.918567</td><td style=\"text-align: right;\">              0.355855</td><td style=\"text-align: right;\">0.496638</td><td style=\"text-align: right;\">0.246649</td></tr>\n",
       "<tr><td>XRT_1_AutoML_20190513_124506                       </td><td style=\"text-align: right;\">0.753341</td><td style=\"text-align: right;\"> 0.589043</td><td style=\"text-align: right;\">              0.345801</td><td style=\"text-align: right;\">0.449559</td><td style=\"text-align: right;\">0.202103</td></tr>\n",
       "<tr><td>DRF_1_AutoML_20190513_124506                       </td><td style=\"text-align: right;\">0.745296</td><td style=\"text-align: right;\"> 0.594613</td><td style=\"text-align: right;\">              0.359195</td><td style=\"text-align: right;\">0.452078</td><td style=\"text-align: right;\">0.204374</td></tr>\n",
       "<tr><td>DeepLearning_grid_1_AutoML_20190513_124506_model_2 </td><td style=\"text-align: right;\">0.741038</td><td style=\"text-align: right;\"> 0.599578</td><td style=\"text-align: right;\">              0.359691</td><td style=\"text-align: right;\">0.454816</td><td style=\"text-align: right;\">0.206858</td></tr>\n",
       "<tr><td>DeepLearning_grid_1_AutoML_20190513_124506_model_1 </td><td style=\"text-align: right;\">0.704329</td><td style=\"text-align: right;\"> 0.654706</td><td style=\"text-align: right;\">              0.400354</td><td style=\"text-align: right;\">0.472736</td><td style=\"text-align: right;\">0.223479</td></tr>\n",
       "<tr><td>DeepLearning_1_AutoML_20190513_124506              </td><td style=\"text-align: right;\">0.69423 </td><td style=\"text-align: right;\"> 0.637256</td><td style=\"text-align: right;\">              0.40294 </td><td style=\"text-align: right;\">0.471461</td><td style=\"text-align: right;\">0.222276</td></tr>\n",
       "<tr><td>GLM_grid_1_AutoML_20190513_124506_model_1          </td><td style=\"text-align: right;\">0.682648</td><td style=\"text-align: right;\"> 0.63852 </td><td style=\"text-align: right;\">              0.397234</td><td style=\"text-align: right;\">0.472683</td><td style=\"text-align: right;\">0.223429</td></tr>\n",
       "</tbody>\n",
       "</table>"
      ]
     },
     "metadata": {},
     "output_type": "display_data"
    },
    {
     "data": {
      "text/plain": []
     },
     "execution_count": 4,
     "metadata": {},
     "output_type": "execute_result"
    }
   ],
   "source": [
    "\n",
    "# Import a sample binary outcome train/test set into H2O\n",
    "train = h2o.import_file(\"https://s3.amazonaws.com/erin-data/higgs/higgs_train_10k.csv\")\n",
    "test = h2o.import_file(\"https://s3.amazonaws.com/erin-data/higgs/higgs_test_5k.csv\")\n",
    "\n",
    "# Identify predictors and response\n",
    "x = train.columns\n",
    "y = \"response\"\n",
    "x.remove(y)\n",
    "\n",
    "# For binary classification, response should be a factor\n",
    "train[y] = train[y].asfactor()\n",
    "test[y] = test[y].asfactor()\n",
    "\n",
    "# Run AutoML for 20 base models (limited to 1 hour max runtime by default)\n",
    "aml = H2OAutoML(max_models=20, seed=1)\n",
    "aml.train(x=x, y=y, training_frame=train)\n",
    "\n",
    "# View the AutoML Leaderboard\n",
    "lb = aml.leaderboard\n",
    "lb.head(rows=lb.nrows)  # Print all rows instead of default (10 rows)"
   ]
  },
  {
   "cell_type": "code",
   "execution_count": 5,
   "metadata": {},
   "outputs": [
    {
     "name": "stdout",
     "output_type": "stream",
     "text": [
      "stackedensemble prediction progress: |████████████████████████████████████| 100%\n",
      "stackedensemble prediction progress: |████████████████████████████████████| 100%\n"
     ]
    }
   ],
   "source": [
    "\n",
    "# The leader model is stored here\n",
    "aml.leader\n",
    "\n",
    "# If you need to generate predictions on a test set, you can make\n",
    "# predictions directly on the `\"H2OAutoML\"` object, or on the leader\n",
    "# model object directly\n",
    "\n",
    "preds = aml.predict(test)\n",
    "\n",
    "# or:\n",
    "preds = aml.leader.predict(test)"
   ]
  },
  {
   "cell_type": "code",
   "execution_count": null,
   "metadata": {},
   "outputs": [],
   "source": []
  }
 ],
 "metadata": {
  "kernelspec": {
   "display_name": "Python 3",
   "language": "python",
   "name": "python3"
  },
  "language_info": {
   "codemirror_mode": {
    "name": "ipython",
    "version": 3
   },
   "file_extension": ".py",
   "mimetype": "text/x-python",
   "name": "python",
   "nbconvert_exporter": "python",
   "pygments_lexer": "ipython3",
   "version": "3.6.8"
  }
 },
 "nbformat": 4,
 "nbformat_minor": 2
}
