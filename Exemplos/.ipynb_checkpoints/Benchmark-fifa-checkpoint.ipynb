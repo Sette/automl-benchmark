{
 "cells": [
  {
   "cell_type": "code",
   "execution_count": 1,
   "metadata": {},
   "outputs": [],
   "source": [
    "%matplotlib inline"
   ]
  },
  {
   "cell_type": "markdown",
   "metadata": {},
   "source": [
    "\n",
    "# FIfa dataset with autosklearn and Tpot (automl tools)\n"
   ]
  },
  {
   "cell_type": "code",
   "execution_count": 21,
   "metadata": {},
   "outputs": [],
   "source": [
    "import sklearn.model_selection\n",
    "import sklearn.datasets\n",
    "import sklearn.metrics\n",
    "from fi_utils import load_dataset\n",
    "import autosklearn.classification\n",
    "from plt_utils import plot_confusion_matrix\n",
    "from benchmark_utils import timer\n",
    "from sklearn.metrics import confusion_matrix\n",
    "#!pip install tpot\n",
    "from tpot import TPOTClassifier\n",
    "#!pip install -f http://h2o-release.s3.amazonaws.com/h2o/latest_stable_Py.html h2o\n",
    "import h2o\n"
   ]
  },
  {
   "cell_type": "code",
   "execution_count": 6,
   "metadata": {},
   "outputs": [
    {
     "name": "stderr",
     "output_type": "stream",
     "text": [
      "Exception ignored in: <function BackendContext.__del__ at 0x7fe349e21510>\n",
      "Traceback (most recent call last):\n",
      "  File \"/home/bruno/anaconda3/lib/python3.7/site-packages/autosklearn/util/backend.py\", line 127, in __del__\n",
      "    self.delete_directories(force=False)\n",
      "  File \"/home/bruno/anaconda3/lib/python3.7/site-packages/autosklearn/util/backend.py\", line 136, in delete_directories\n",
      "    \"auto-sklearn.\" % self.output_directory)\n",
      "ValueError: Failed to delete output dir: /tmp/autosklearn_cv_example_out because auto-sklearn did not create it. Please make sure that the specified output dir does not exist when instantiating auto-sklearn.\n"
     ]
    }
   ],
   "source": [
    "\n",
    "X, y, class_names = load_dataset()\n",
    "\n",
    "X_train, X_test, y_train, y_test = \\\n",
    "    sklearn.model_selection.train_test_split(X, y, test_size=0.20, \n",
    "                                                    random_state=42)\n",
    "\n"
   ]
  },
  {
   "cell_type": "markdown",
   "metadata": {},
   "source": [
    "## Test using autosklearn"
   ]
  },
  {
   "cell_type": "code",
   "execution_count": null,
   "metadata": {},
   "outputs": [],
   "source": [
    "\n",
    "automl = autosklearn.classification.AutoSklearnClassifier(\n",
    "        time_left_for_this_task=120,\n",
    "        per_run_time_limit=30,\n",
    "        tmp_folder='/tmp/autosklearn_cv_example_tmp',\n",
    "        output_folder='/tmp/autosklearn_cv_example_out',\n",
    "        delete_tmp_folder_after_terminate=True,\n",
    "        resampling_strategy='cv',\n",
    "        resampling_strategy_arguments={'cv': {'folds': 5}},\n",
    ")"
   ]
  },
  {
   "cell_type": "code",
   "execution_count": 10,
   "metadata": {},
   "outputs": [
    {
     "name": "stderr",
     "output_type": "stream",
     "text": [
      "Exception ignored in: <function BackendContext.__del__ at 0x7fe349e21510>\n",
      "Traceback (most recent call last):\n",
      "  File \"/home/bruno/anaconda3/lib/python3.7/site-packages/autosklearn/util/backend.py\", line 127, in __del__\n",
      "    self.delete_directories(force=False)\n",
      "  File \"/home/bruno/anaconda3/lib/python3.7/site-packages/autosklearn/util/backend.py\", line 136, in delete_directories\n",
      "    \"auto-sklearn.\" % self.output_directory)\n",
      "ValueError: Failed to delete output dir: /tmp/autosklearn_cv_example_out because auto-sklearn did not create it. Please make sure that the specified output dir does not exist when instantiating auto-sklearn.\n",
      "Exception ignored in: <function BackendContext.__del__ at 0x7fe349e21510>\n",
      "Traceback (most recent call last):\n",
      "  File \"/home/bruno/anaconda3/lib/python3.7/site-packages/autosklearn/util/backend.py\", line 127, in __del__\n",
      "    self.delete_directories(force=False)\n",
      "  File \"/home/bruno/anaconda3/lib/python3.7/site-packages/autosklearn/util/backend.py\", line 136, in delete_directories\n",
      "    \"auto-sklearn.\" % self.output_directory)\n",
      "ValueError: Failed to delete output dir: /tmp/autosklearn_cv_example_out because auto-sklearn did not create it. Please make sure that the specified output dir does not exist when instantiating auto-sklearn.\n"
     ]
    },
    {
     "name": "stdout",
     "output_type": "stream",
     "text": [
      "[WARNING] [2019-05-30 20:39:53,720:EnsembleBuilder(1):fifa] No models better than random - using Dummy Score!\n",
      "[WARNING] [2019-05-30 20:39:53,736:EnsembleBuilder(1):fifa] No models better than random - using Dummy Score!\n",
      "[WARNING] [2019-05-30 20:39:55,740:EnsembleBuilder(1):fifa] No models better than random - using Dummy Score!\n",
      "[WARNING] [2019-05-30 20:39:57,745:EnsembleBuilder(1):fifa] No models better than random - using Dummy Score!\n",
      "[WARNING] [2019-05-30 20:39:59,751:EnsembleBuilder(1):fifa] No models better than random - using Dummy Score!\n",
      "[WARNING] [2019-05-30 20:40:01,756:EnsembleBuilder(1):fifa] No models better than random - using Dummy Score!\n",
      "[WARNING] [2019-05-30 20:40:03,759:EnsembleBuilder(1):fifa] No models better than random - using Dummy Score!\n",
      "[WARNING] [2019-05-30 20:40:05,766:EnsembleBuilder(1):fifa] No models better than random - using Dummy Score!\n",
      "[WARNING] [2019-05-30 20:40:07,772:EnsembleBuilder(1):fifa] No models better than random - using Dummy Score!\n",
      "[WARNING] [2019-05-30 20:40:09,779:EnsembleBuilder(1):fifa] No models better than random - using Dummy Score!\n",
      "[WARNING] [2019-05-30 20:40:11,786:EnsembleBuilder(1):fifa] No models better than random - using Dummy Score!\n",
      "[WARNING] [2019-05-30 20:40:13,793:EnsembleBuilder(1):fifa] No models better than random - using Dummy Score!\n",
      "[WARNING] [2019-05-30 20:40:15,802:EnsembleBuilder(1):fifa] No models better than random - using Dummy Score!\n"
     ]
    },
    {
     "name": "stderr",
     "output_type": "stream",
     "text": [
      "Exception ignored in: <function BackendContext.__del__ at 0x7fe349e21510>\n",
      "Traceback (most recent call last):\n",
      "  File \"/home/bruno/anaconda3/lib/python3.7/site-packages/autosklearn/util/backend.py\", line 127, in __del__\n",
      "    self.delete_directories(force=False)\n",
      "  File \"/home/bruno/anaconda3/lib/python3.7/site-packages/autosklearn/util/backend.py\", line 136, in delete_directories\n",
      "    \"auto-sklearn.\" % self.output_directory)\n",
      "ValueError: Failed to delete output dir: /tmp/autosklearn_cv_example_out because auto-sklearn did not create it. Please make sure that the specified output dir does not exist when instantiating auto-sklearn.\n",
      "Exception ignored in: <function BackendContext.__del__ at 0x7fe349e21510>\n",
      "Traceback (most recent call last):\n",
      "  File \"/home/bruno/anaconda3/lib/python3.7/site-packages/autosklearn/util/backend.py\", line 127, in __del__\n",
      "    self.delete_directories(force=False)\n",
      "  File \"/home/bruno/anaconda3/lib/python3.7/site-packages/autosklearn/util/backend.py\", line 136, in delete_directories\n",
      "    \"auto-sklearn.\" % self.output_directory)\n",
      "ValueError: Failed to delete output dir: /tmp/autosklearn_cv_example_out because auto-sklearn did not create it. Please make sure that the specified output dir does not exist when instantiating auto-sklearn.\n"
     ]
    },
    {
     "name": "stdout",
     "output_type": "stream",
     "text": [
      "1\n",
      "['/tmp/autosklearn_cv_example_tmp/.auto-sklearn/ensembles/1.0000000000.ensemble', '/tmp/autosklearn_cv_example_tmp/.auto-sklearn/ensembles/1.0000000001.ensemble', '/tmp/autosklearn_cv_example_tmp/.auto-sklearn/ensembles/1.0000000002.ensemble']\n"
     ]
    },
    {
     "name": "stderr",
     "output_type": "stream",
     "text": [
      "Exception ignored in: <function BackendContext.__del__ at 0x7fe349e21510>\n",
      "Traceback (most recent call last):\n",
      "  File \"/home/bruno/anaconda3/lib/python3.7/site-packages/autosklearn/util/backend.py\", line 127, in __del__\n",
      "    self.delete_directories(force=False)\n",
      "  File \"/home/bruno/anaconda3/lib/python3.7/site-packages/autosklearn/util/backend.py\", line 136, in delete_directories\n",
      "    \"auto-sklearn.\" % self.output_directory)\n",
      "ValueError: Failed to delete output dir: /tmp/autosklearn_cv_example_out because auto-sklearn did not create it. Please make sure that the specified output dir does not exist when instantiating auto-sklearn.\n"
     ]
    },
    {
     "name": "stdout",
     "output_type": "stream",
     "text": [
      "\n",
      " Time taken: 0 hours 2 minutes and 3.17 seconds.\n",
      "[(0.940000, SimpleClassificationPipeline({'balancing:strategy': 'none', 'categorical_encoding:__choice__': 'one_hot_encoding', 'classifier:__choice__': 'random_forest', 'imputation:strategy': 'mean', 'preprocessor:__choice__': 'no_preprocessing', 'rescaling:__choice__': 'standardize', 'categorical_encoding:one_hot_encoding:use_minimum_fraction': 'True', 'classifier:random_forest:bootstrap': 'True', 'classifier:random_forest:criterion': 'gini', 'classifier:random_forest:max_depth': 'None', 'classifier:random_forest:max_features': 0.5, 'classifier:random_forest:max_leaf_nodes': 'None', 'classifier:random_forest:min_impurity_decrease': 0.0, 'classifier:random_forest:min_samples_leaf': 1, 'classifier:random_forest:min_samples_split': 2, 'classifier:random_forest:min_weight_fraction_leaf': 0.0, 'classifier:random_forest:n_estimators': 100, 'categorical_encoding:one_hot_encoding:minimum_fraction': 0.01},\n",
      "dataset_properties={\n",
      "  'task': 2,\n",
      "  'sparse': False,\n",
      "  'multilabel': False,\n",
      "  'multiclass': True,\n",
      "  'target_type': 'classification',\n",
      "  'signed': False})),\n",
      "(0.060000, SimpleClassificationPipeline({'balancing:strategy': 'weighting', 'categorical_encoding:__choice__': 'one_hot_encoding', 'classifier:__choice__': 'extra_trees', 'imputation:strategy': 'median', 'preprocessor:__choice__': 'fast_ica', 'rescaling:__choice__': 'none', 'categorical_encoding:one_hot_encoding:use_minimum_fraction': 'False', 'classifier:extra_trees:bootstrap': 'False', 'classifier:extra_trees:criterion': 'entropy', 'classifier:extra_trees:max_depth': 'None', 'classifier:extra_trees:max_features': 0.5765793990908161, 'classifier:extra_trees:max_leaf_nodes': 'None', 'classifier:extra_trees:min_impurity_decrease': 0.0, 'classifier:extra_trees:min_samples_leaf': 11, 'classifier:extra_trees:min_samples_split': 20, 'classifier:extra_trees:min_weight_fraction_leaf': 0.0, 'classifier:extra_trees:n_estimators': 100, 'preprocessor:fast_ica:algorithm': 'deflation', 'preprocessor:fast_ica:fun': 'exp', 'preprocessor:fast_ica:whiten': 'True', 'preprocessor:fast_ica:n_components': 10},\n",
      "dataset_properties={\n",
      "  'task': 2,\n",
      "  'sparse': False,\n",
      "  'multilabel': False,\n",
      "  'multiclass': True,\n",
      "  'target_type': 'classification',\n",
      "  'signed': False})),\n",
      "]\n"
     ]
    }
   ],
   "source": [
    "\n",
    "# fit() changes the data in place, but refit needs the original data. We\n",
    "# therefore copy the data. In practice, one should reload the data\n",
    "start_time = timer(None)\n",
    "automl.fit(X_train.copy(), y_train.copy(), dataset_name='fifa')\n",
    "# During fit(), models are fit on individual cross-validation folds. To use\n",
    "# all available data, we call refit() which trains all models in the\n",
    "# final ensemble on the whole dataset.\n",
    "automl.refit(X_train.copy(), y_train.copy())\n",
    "timer(start_time)\n",
    "print(automl.show_models())\n",
    "\n",
    "predictions = automl.predict(X_test)\n"
   ]
  },
  {
   "cell_type": "code",
   "execution_count": 11,
   "metadata": {},
   "outputs": [
    {
     "name": "stdout",
     "output_type": "stream",
     "text": [
      "Accuracy score 0.8861519975968759\n"
     ]
    }
   ],
   "source": [
    "print(\"Accuracy score\", sklearn.metrics.accuracy_score(y_test, predictions))"
   ]
  },
  {
   "cell_type": "code",
   "execution_count": 18,
   "metadata": {},
   "outputs": [
    {
     "name": "stdout",
     "output_type": "stream",
     "text": [
      "Figure(720x504)\n"
     ]
    },
    {
     "data": {
      "image/png": "[encoded data removed]",
      "text/plain": [
       "<Figure size 720x504 with 2 Axes>"
      ]
     },
     "metadata": {},
     "output_type": "display_data"
    }
   ],
   "source": [
    "cf = confusion_matrix(y_test,predictions)\n",
    "\n",
    "print(plot_confusion_matrix(cf,class_names=class_names))"
   ]
  },
  {
   "cell_type": "markdown",
   "metadata": {},
   "source": [
    "## Test using TPOT\n"
   ]
  },
  {
   "cell_type": "code",
   "execution_count": 24,
   "metadata": {},
   "outputs": [
    {
     "data": {
      "application/vnd.jupyter.widget-view+json": {
       "model_id": "",
       "version_major": 2,
       "version_minor": 0
      },
      "text/plain": [
       "HBox(children=(IntProgress(value=0, description='Optimization Progress', max=40, style=ProgressStyle(descripti…"
      ]
     },
     "metadata": {},
     "output_type": "display_data"
    },
    {
     "name": "stdout",
     "output_type": "stream",
     "text": [
      "Generation 1 - Current best internal CV score: 0.8773475920340505\n",
      "Generation 2 - Current best internal CV score: 0.8773475920340505\n",
      "Generation 3 - Current best internal CV score: 0.8793017984107359\n",
      "\n",
      "Best pipeline: LogisticRegression(GradientBoostingClassifier(input_matrix, learning_rate=0.01, max_depth=9, max_features=0.8500000000000001, min_samples_leaf=1, min_samples_split=12, n_estimators=100, subsample=0.05), C=25.0, dual=False, penalty=l1)\n",
      "\n",
      " Time taken: 3 hours 12 minutes and 21.42 seconds.\n",
      "0.8909582457194353\n"
     ]
    }
   ],
   "source": [
    "pipeline_optimizer = TPOTClassifier(generations=3, population_size=10, cv=10,\n",
    "                                    random_state=42, verbosity=2)\n",
    "start_time = timer(None)\n",
    "pipeline_optimizer.fit(X_train, y_train)\n",
    "timer(start_time)\n",
    "print(pipeline_optimizer.score(X_test, y_test))"
   ]
  },
  {
   "cell_type": "code",
   "execution_count": 25,
   "metadata": {},
   "outputs": [
    {
     "name": "stdout",
     "output_type": "stream",
     "text": [
      "Help on TPOTClassifier in module tpot.tpot object:\n",
      "\n",
      "class TPOTClassifier(tpot.base.TPOTBase)\n",
      " |  TPOTClassifier(generations=100, population_size=100, offspring_size=None, mutation_rate=0.9, crossover_rate=0.1, scoring=None, cv=5, subsample=1.0, n_jobs=1, max_time_mins=None, max_eval_time_mins=5, random_state=None, config_dict=None, template='RandomTree', warm_start=False, memory=None, use_dask=False, periodic_checkpoint_folder=None, early_stop=None, verbosity=0, disable_update_check=False)\n",
      " |  \n",
      " |  TPOT estimator for classification problems.\n",
      " |  \n",
      " |  Method resolution order:\n",
      " |      TPOTClassifier\n",
      " |      tpot.base.TPOTBase\n",
      " |      sklearn.base.BaseEstimator\n",
      " |      builtins.object\n",
      " |  \n",
      " |  Data and other attributes defined here:\n",
      " |  \n",
      " |  classification = True\n",
      " |  \n",
      " |  default_config_dict = {'sklearn.cluster.FeatureAgglomeration': {'affin...\n",
      " |  \n",
      " |  regression = False\n",
      " |  \n",
      " |  scoring_function = 'accuracy'\n",
      " |  \n",
      " |  ----------------------------------------------------------------------\n",
      " |  Methods inherited from tpot.base.TPOTBase:\n",
      " |  \n",
      " |  __init__(self, generations=100, population_size=100, offspring_size=None, mutation_rate=0.9, crossover_rate=0.1, scoring=None, cv=5, subsample=1.0, n_jobs=1, max_time_mins=None, max_eval_time_mins=5, random_state=None, config_dict=None, template='RandomTree', warm_start=False, memory=None, use_dask=False, periodic_checkpoint_folder=None, early_stop=None, verbosity=0, disable_update_check=False)\n",
      " |      Set up the genetic programming algorithm for pipeline optimization.\n",
      " |      \n",
      " |      Parameters\n",
      " |      ----------\n",
      " |      generations: int, optional (default: 100)\n",
      " |          Number of iterations to the run pipeline optimization process.\n",
      " |          Generally, TPOT will work better when you give it more generations (and\n",
      " |          therefore time) to optimize the pipeline. TPOT will evaluate\n",
      " |          POPULATION_SIZE + GENERATIONS x OFFSPRING_SIZE pipelines in total.\n",
      " |      population_size: int, optional (default: 100)\n",
      " |          Number of individuals to retain in the GP population every generation.\n",
      " |          Generally, TPOT will work better when you give it more individuals\n",
      " |          (and therefore time) to optimize the pipeline. TPOT will evaluate\n",
      " |          POPULATION_SIZE + GENERATIONS x OFFSPRING_SIZE pipelines in total.\n",
      " |      offspring_size: int, optional (default: None)\n",
      " |          Number of offspring to produce in each GP generation.\n",
      " |          By default, offspring_size = population_size.\n",
      " |      mutation_rate: float, optional (default: 0.9)\n",
      " |          Mutation rate for the genetic programming algorithm in the range [0.0, 1.0].\n",
      " |          This parameter tells the GP algorithm how many pipelines to apply random\n",
      " |          changes to every generation. We recommend using the default parameter unless\n",
      " |          you understand how the mutation rate affects GP algorithms.\n",
      " |      crossover_rate: float, optional (default: 0.1)\n",
      " |          Crossover rate for the genetic programming algorithm in the range [0.0, 1.0].\n",
      " |          This parameter tells the genetic programming algorithm how many pipelines to\n",
      " |          \"breed\" every generation. We recommend using the default parameter unless you\n",
      " |          understand how the mutation rate affects GP algorithms.\n",
      " |      scoring: string or callable, optional\n",
      " |          Function used to evaluate the quality of a given pipeline for the\n",
      " |          problem. By default, accuracy is used for classification problems and\n",
      " |          mean squared error (MSE) for regression problems.\n",
      " |      \n",
      " |          Offers the same options as sklearn.model_selection.cross_val_score as well as\n",
      " |          a built-in score 'balanced_accuracy'. Classification metrics:\n",
      " |      \n",
      " |          ['accuracy', 'adjusted_rand_score', 'average_precision', 'balanced_accuracy',\n",
      " |          'f1', 'f1_macro', 'f1_micro', 'f1_samples', 'f1_weighted',\n",
      " |          'precision', 'precision_macro', 'precision_micro', 'precision_samples',\n",
      " |          'precision_weighted', 'recall', 'recall_macro', 'recall_micro',\n",
      " |          'recall_samples', 'recall_weighted', 'roc_auc']\n",
      " |      \n",
      " |          Regression metrics:\n",
      " |      \n",
      " |          ['neg_median_absolute_error', 'neg_mean_absolute_error',\n",
      " |          'neg_mean_squared_error', 'r2']\n",
      " |      \n",
      " |          If you would like to use a custom scoring function, you can pass a callable\n",
      " |          function to this parameter with the signature scorer(y_true, y_pred).\n",
      " |          See the section on scoring functions in the documentation for more details.\n",
      " |      \n",
      " |          TPOT assumes that any custom scoring function with \"error\" or \"loss\" in the\n",
      " |          name is meant to be minimized, whereas any other functions will be maximized.\n",
      " |      cv: int or cross-validation generator, optional (default: 5)\n",
      " |          If CV is a number, then it is the number of folds to evaluate each\n",
      " |          pipeline over in k-fold cross-validation during the TPOT optimization\n",
      " |           process. If it is an object then it is an object to be used as a\n",
      " |           cross-validation generator.\n",
      " |      subsample: float, optional (default: 1.0)\n",
      " |          Subsample ratio of the training instance. Setting it to 0.5 means that TPOT\n",
      " |          randomly collects half of training samples for pipeline optimization process.\n",
      " |      n_jobs: int, optional (default: 1)\n",
      " |          Number of CPUs for evaluating pipelines in parallel during the TPOT\n",
      " |          optimization process. Assigning this to -1 will use as many cores as available\n",
      " |          on the computer. For n_jobs below -1, (n_cpus + 1 + n_jobs) are used.\n",
      " |          Thus for n_jobs = -2, all CPUs but one are used.\n",
      " |      max_time_mins: int, optional (default: None)\n",
      " |          How many minutes TPOT has to optimize the pipeline.\n",
      " |          If provided, this setting will override the \"generations\" parameter and allow\n",
      " |          TPOT to run until it runs out of time.\n",
      " |      max_eval_time_mins: float, optional (default: 5)\n",
      " |          How many minutes TPOT has to optimize a single pipeline.\n",
      " |          Setting this parameter to higher values will allow TPOT to explore more\n",
      " |          complex pipelines, but will also allow TPOT to run longer.\n",
      " |      random_state: int, optional (default: None)\n",
      " |          Random number generator seed for TPOT. Use this parameter to make sure\n",
      " |          that TPOT will give you the same results each time you run it against the\n",
      " |          same data set with that seed.\n",
      " |      config_dict: a Python dictionary or string, optional (default: None)\n",
      " |          Python dictionary:\n",
      " |              A dictionary customizing the operators and parameters that\n",
      " |              TPOT uses in the optimization process.\n",
      " |              For examples, see config_regressor.py and config_classifier.py\n",
      " |          Path for configuration file:\n",
      " |              A path to a configuration file for customizing the operators and parameters that\n",
      " |              TPOT uses in the optimization process.\n",
      " |              For examples, see config_regressor.py and config_classifier.py\n",
      " |          String 'TPOT light':\n",
      " |              TPOT uses a light version of operator configuration dictionary instead of\n",
      " |              the default one.\n",
      " |          String 'TPOT MDR':\n",
      " |              TPOT uses a list of TPOT-MDR operator configuration dictionary instead of\n",
      " |              the default one.\n",
      " |          String 'TPOT sparse':\n",
      " |              TPOT uses a configuration dictionary with a one-hot-encoder and the\n",
      " |              operators normally included in TPOT that also support sparse matrices.\n",
      " |      template: string (default: \"RandomTree\")\n",
      " |          Template of predefined pipeline structure. The option is for specifying a desired structure\n",
      " |          for the machine learning pipeline evaluated in TPOT. So far this option only supports\n",
      " |          linear pipeline structure. Each step in the pipeline should be a main class of operators\n",
      " |          (Selector, Transformer, Classifier or Regressor) or a specific operator\n",
      " |          (e.g. SelectPercentile) defined in TPOT operator configuration. If one step is a main class,\n",
      " |          TPOT will randomly assign all subclass operators (subclasses of SelectorMixin,\n",
      " |          TransformerMixin, ClassifierMixin or RegressorMixin in scikit-learn) to that step.\n",
      " |          Steps in the template are delimited by \"-\", e.g. \"SelectPercentile-Transformer-Classifier\".\n",
      " |          By default value of template is \"RandomTree\", TPOT generates tree-based pipeline randomly.\n",
      " |      warm_start: bool, optional (default: False)\n",
      " |          Flag indicating whether the TPOT instance will reuse the population from\n",
      " |          previous calls to fit().\n",
      " |      memory: a Memory object or string, optional (default: None)\n",
      " |          If supplied, pipeline will cache each transformer after calling fit. This feature\n",
      " |          is used to avoid computing the fit transformers within a pipeline if the parameters\n",
      " |          and input data are identical with another fitted pipeline during optimization process.\n",
      " |          String 'auto':\n",
      " |              TPOT uses memory caching with a temporary directory and cleans it up upon shutdown.\n",
      " |          String path of a caching directory\n",
      " |              TPOT uses memory caching with the provided directory and TPOT does NOT clean\n",
      " |              the caching directory up upon shutdown. If the directory does not exist, TPOT will\n",
      " |              create it.\n",
      " |          Memory object:\n",
      " |              TPOT uses the instance of sklearn.external.joblib.Memory for memory caching,\n",
      " |              and TPOT does NOT clean the caching directory up upon shutdown.\n",
      " |          None:\n",
      " |              TPOT does not use memory caching.\n",
      " |      use_dask: boolean, default False\n",
      " |          Whether to use Dask-ML's pipeline optimiziations. This avoid re-fitting\n",
      " |          the same estimator on the same split of data multiple times. It\n",
      " |          will also provide more detailed diagnostics when using Dask's\n",
      " |          distributed scheduler.\n",
      " |      \n",
      " |          See `avoid repeated work <https://dask-ml.readthedocs.io/en/latest/hyper-parameter-search.html#avoid-repeated-work>`__\n",
      " |          for more details.\n",
      " |      periodic_checkpoint_folder: path string, optional (default: None)\n",
      " |          If supplied, a folder in which tpot will periodically save pipelines in pareto front so far while optimizing.\n",
      " |          Currently once per generation but not more often than once per 30 seconds.\n",
      " |          Useful in multiple cases:\n",
      " |              Sudden death before tpot could save optimized pipeline\n",
      " |              Track its progress\n",
      " |              Grab pipelines while it's still optimizing\n",
      " |      early_stop: int or None (default: None)\n",
      " |          How many generations TPOT checks whether there is no improvement in optimization process.\n",
      " |          End optimization process if there is no improvement in the set number of generations.\n",
      " |      verbosity: int, optional (default: 0)\n",
      " |          How much information TPOT communicates while it's running.\n",
      " |          0 = none, 1 = minimal, 2 = high, 3 = all.\n",
      " |          A setting of 2 or higher will add a progress bar during the optimization procedure.\n",
      " |      disable_update_check: bool, optional (default: False)\n",
      " |          Flag indicating whether the TPOT version checker should be disabled.\n",
      " |      \n",
      " |      \n",
      " |      Returns\n",
      " |      -------\n",
      " |      None\n",
      " |  \n",
      " |  clean_pipeline_string(self, individual)\n",
      " |      Provide a string of the individual without the parameter prefixes.\n",
      " |      \n",
      " |      Parameters\n",
      " |      ----------\n",
      " |      individual: individual\n",
      " |          Individual which should be represented by a pretty string\n",
      " |      \n",
      " |      Returns\n",
      " |      -------\n",
      " |      A string like str(individual), but with parameter prefixes removed.\n",
      " |  \n",
      " |  export(self, output_file_name, data_file_path='')\n",
      " |      Export the optimized pipeline as Python code.\n",
      " |      \n",
      " |      Parameters\n",
      " |      ----------\n",
      " |      output_file_name: string\n",
      " |          String containing the path and file name of the desired output file\n",
      " |      data_file_path: string (default: '')\n",
      " |          By default, the path of input dataset is 'PATH/TO/DATA/FILE' by default.\n",
      " |          If data_file_path is another string, the path will be replaced.\n",
      " |      \n",
      " |      Returns\n",
      " |      -------\n",
      " |      False if it skipped writing the pipeline to file\n",
      " |      True if the pipeline was actually written\n",
      " |  \n",
      " |  fit(self, features, target, sample_weight=None, groups=None)\n",
      " |      Fit an optimized machine learning pipeline.\n",
      " |      \n",
      " |      Uses genetic programming to optimize a machine learning pipeline that\n",
      " |      maximizes score on the provided features and target. Performs internal\n",
      " |      k-fold cross-validaton to avoid overfitting on the provided data. The\n",
      " |      best pipeline is then trained on the entire set of provided samples.\n",
      " |      \n",
      " |      Parameters\n",
      " |      ----------\n",
      " |      features: array-like {n_samples, n_features}\n",
      " |          Feature matrix\n",
      " |      \n",
      " |          TPOT and all scikit-learn algorithms assume that the features will be numerical\n",
      " |          and there will be no missing values. As such, when a feature matrix is provided\n",
      " |          to TPOT, all missing values will automatically be replaced (i.e., imputed) using\n",
      " |          median value imputation.\n",
      " |      \n",
      " |          If you wish to use a different imputation strategy than median imputation, please\n",
      " |          make sure to apply imputation to your feature set prior to passing it to TPOT.\n",
      " |      target: array-like {n_samples}\n",
      " |          List of class labels for prediction\n",
      " |      sample_weight: array-like {n_samples}, optional\n",
      " |          Per-sample weights. Higher weights indicate more importance. If specified,\n",
      " |          sample_weight will be passed to any pipeline element whose fit() function accepts\n",
      " |          a sample_weight argument. By default, using sample_weight does not affect tpot's\n",
      " |          scoring functions, which determine preferences between pipelines.\n",
      " |      groups: array-like, with shape {n_samples, }, optional\n",
      " |          Group labels for the samples used when performing cross-validation.\n",
      " |          This parameter should only be used in conjunction with sklearn's Group cross-validation\n",
      " |          functions, such as sklearn.model_selection.GroupKFold\n",
      " |      \n",
      " |      Returns\n",
      " |      -------\n",
      " |      self: object\n",
      " |          Returns a copy of the fitted TPOT object\n",
      " |  \n",
      " |  fit_predict(self, features, target, sample_weight=None, groups=None)\n",
      " |      Call fit and predict in sequence.\n",
      " |      \n",
      " |      Parameters\n",
      " |      ----------\n",
      " |      features: array-like {n_samples, n_features}\n",
      " |          Feature matrix\n",
      " |      target: array-like {n_samples}\n",
      " |          List of class labels for prediction\n",
      " |      sample_weight: array-like {n_samples}, optional\n",
      " |          Per-sample weights. Higher weights force TPOT to put more emphasis on those points\n",
      " |      groups: array-like, with shape {n_samples, }, optional\n",
      " |          Group labels for the samples used when performing cross-validation.\n",
      " |          This parameter should only be used in conjunction with sklearn's Group cross-validation\n",
      " |          functions, such as sklearn.model_selection.GroupKFold\n",
      " |      \n",
      " |      Returns\n",
      " |      ----------\n",
      " |      array-like: {n_samples}\n",
      " |          Predicted target for the provided features\n",
      " |  \n",
      " |  predict(self, features)\n",
      " |      Use the optimized pipeline to predict the target for a feature set.\n",
      " |      \n",
      " |      Parameters\n",
      " |      ----------\n",
      " |      features: array-like {n_samples, n_features}\n",
      " |          Feature matrix\n",
      " |      \n",
      " |      Returns\n",
      " |      ----------\n",
      " |      array-like: {n_samples}\n",
      " |          Predicted target for the samples in the feature matrix\n",
      " |  \n",
      " |  predict_proba(self, features)\n",
      " |      Use the optimized pipeline to estimate the class probabilities for a feature set.\n",
      " |      \n",
      " |      Parameters\n",
      " |      ----------\n",
      " |      features: array-like {n_samples, n_features}\n",
      " |          Feature matrix of the testing set\n",
      " |      \n",
      " |      Returns\n",
      " |      -------\n",
      " |      array-like: {n_samples, n_target}\n",
      " |          The class probabilities of the input samples\n",
      " |  \n",
      " |  score(self, testing_features, testing_target)\n",
      " |      Return the score on the given testing data using the user-specified scoring function.\n",
      " |      \n",
      " |      Parameters\n",
      " |      ----------\n",
      " |      testing_features: array-like {n_samples, n_features}\n",
      " |          Feature matrix of the testing set\n",
      " |      testing_target: array-like {n_samples}\n",
      " |          List of class labels for prediction in the testing set\n",
      " |      \n",
      " |      Returns\n",
      " |      -------\n",
      " |      accuracy_score: float\n",
      " |          The estimated test set accuracy\n",
      " |  \n",
      " |  ----------------------------------------------------------------------\n",
      " |  Methods inherited from sklearn.base.BaseEstimator:\n",
      " |  \n",
      " |  __getstate__(self)\n",
      " |  \n",
      " |  __repr__(self)\n",
      " |      Return repr(self).\n",
      " |  \n",
      " |  __setstate__(self, state)\n",
      " |  \n",
      " |  get_params(self, deep=True)\n",
      " |      Get parameters for this estimator.\n",
      " |      \n",
      " |      Parameters\n",
      " |      ----------\n",
      " |      deep : boolean, optional\n",
      " |          If True, will return the parameters for this estimator and\n",
      " |          contained subobjects that are estimators.\n",
      " |      \n",
      " |      Returns\n",
      " |      -------\n",
      " |      params : mapping of string to any\n",
      " |          Parameter names mapped to their values.\n",
      " |  \n",
      " |  set_params(self, **params)\n",
      " |      Set the parameters of this estimator.\n",
      " |      \n",
      " |      The method works on simple estimators as well as on nested objects\n",
      " |      (such as pipelines). The latter have parameters of the form\n",
      " |      ``<component>__<parameter>`` so that it's possible to update each\n",
      " |      component of a nested object.\n",
      " |      \n",
      " |      Returns\n",
      " |      -------\n",
      " |      self\n",
      " |  \n",
      " |  ----------------------------------------------------------------------\n",
      " |  Data descriptors inherited from sklearn.base.BaseEstimator:\n",
      " |  \n",
      " |  __dict__\n",
      " |      dictionary for instance variables (if defined)\n",
      " |  \n",
      " |  __weakref__\n",
      " |      list of weak references to the object (if defined)\n",
      "\n",
      "None\n"
     ]
    }
   ],
   "source": [
    "print(help(pipeline_optimizer))"
   ]
  },
  {
   "cell_type": "code",
   "execution_count": 26,
   "metadata": {},
   "outputs": [],
   "source": [
    "preds = pipeline_optimizer.predict(X_test)"
   ]
  },
  {
   "cell_type": "code",
   "execution_count": 27,
   "metadata": {},
   "outputs": [
    {
     "name": "stdout",
     "output_type": "stream",
     "text": [
      "Figure(720x504)\n"
     ]
    },
    {
     "data": {
      "image/png": "[encoded data removed]",
      "text/plain": [
       "<Figure size 720x504 with 2 Axes>"
      ]
     },
     "metadata": {},
     "output_type": "display_data"
    }
   ],
   "source": [
    "cf = confusion_matrix(y_test,preds)\n",
    "\n",
    "print(plot_confusion_matrix(cf,class_names=class_names))"
   ]
  },
  {
   "cell_type": "markdown",
   "metadata": {},
   "source": [
    "## Test using H20 (one vs all for multiclass problem)"
   ]
  },
  {
   "cell_type": "code",
   "execution_count": null,
   "metadata": {},
   "outputs": [],
   "source": []
  }
 ],
 "metadata": {
  "kernelspec": {
   "display_name": "Python 3",
   "language": "python",
   "name": "python3"
  },
  "language_info": {
   "codemirror_mode": {
    "name": "ipython",
    "version": 3
   },
   "file_extension": ".py",
   "mimetype": "text/x-python",
   "name": "python",
   "nbconvert_exporter": "python",
   "pygments_lexer": "ipython3",
   "version": "3.7.3"
  }
 },
 "nbformat": 4,
 "nbformat_minor": 1
}
