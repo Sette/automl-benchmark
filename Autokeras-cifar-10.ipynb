{
 "cells": [
  {
   "cell_type": "code",
   "execution_count": 3,
   "metadata": {},
   "outputs": [],
   "source": [
    "from keras.datasets import cifar10\n",
    "import autokeras as ak\n",
    "\n",
    "\n",
    "# loadning cifar10 from keras\n",
    "(X_train, y_train), (X_test, y_test) = cifar10.load_data()\n"
   ]
  },
  {
   "cell_type": "code",
   "execution_count": null,
   "metadata": {},
   "outputs": [
    {
     "name": "stdout",
     "output_type": "stream",
     "text": [
      "Train shape:  (50000, 32, 32, 3)\n",
      "Train shape:  (10000, 32, 32, 3)\n",
      "Saving Directory: /tmp/autokeras_XKA9J9\n",
      "Preprocessing the images.\n",
      "Preprocessing finished.\n",
      "\n",
      "Initializing search.\n",
      "Initialization finished.\n",
      "\n",
      "\n",
      "+----------------------------------------------+\n",
      "|               Training model 0               |\n",
      "+----------------------------------------------+\n",
      "Epoch-14, Current Metric - 0.426: 390 batch [02:19,  2.76 batch/s]                                  "
     ]
    }
   ],
   "source": [
    "\n",
    "print(\"Train shape: \", X_train.shape)\n",
    "\n",
    "print(\"Train shape: \", X_test.shape)\n",
    "\n",
    "clf = ak.ImageClassifier(verbose=True)\n",
    "clf.fit(X_train, y_train)\n",
    "\n",
    "from sklearn.metrics import accuracy_score\n",
    "y_prediction = clf.predict(X_test)\n",
    "print(accuracy_score(y_true=y_test, y_pred=y_prediction))"
   ]
  },
  {
   "cell_type": "code",
   "execution_count": null,
   "metadata": {},
   "outputs": [],
   "source": []
  }
 ],
 "metadata": {
  "kernelspec": {
   "display_name": "Python 3",
   "language": "python",
   "name": "python3"
  }
 },
 "nbformat": 4,
 "nbformat_minor": 2
}
