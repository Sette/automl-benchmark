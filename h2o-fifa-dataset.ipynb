{
 "cells": [
  {
   "cell_type": "code",
   "execution_count": 1,
   "metadata": {},
   "outputs": [],
   "source": [
    "import h2o"
   ]
  },
  {
   "cell_type": "code",
   "execution_count": 21,
   "metadata": {},
   "outputs": [
    {
     "name": "stdout",
     "output_type": "stream",
     "text": [
      "Checking whether there is an H2O instance running at http://localhost:54321 . connected.\n"
     ]
    },
    {
     "data": {
      "text/html": [
       "<div style=\"overflow:auto\"><table style=\"width:50%\"><tr><td>H2O cluster uptime:</td>\n",
       "<td>54 mins 04 secs</td></tr>\n",
       "<tr><td>H2O cluster timezone:</td>\n",
       "<td>America/Sao_Paulo</td></tr>\n",
       "<tr><td>H2O data parsing timezone:</td>\n",
       "<td>UTC</td></tr>\n",
       "<tr><td>H2O cluster version:</td>\n",
       "<td>3.24.0.3</td></tr>\n",
       "<tr><td>H2O cluster version age:</td>\n",
       "<td>6 days </td></tr>\n",
       "<tr><td>H2O cluster name:</td>\n",
       "<td>H2O_from_python_bruno_2ea3oe</td></tr>\n",
       "<tr><td>H2O cluster total nodes:</td>\n",
       "<td>1</td></tr>\n",
       "<tr><td>H2O cluster free memory:</td>\n",
       "<td>986 Mb</td></tr>\n",
       "<tr><td>H2O cluster total cores:</td>\n",
       "<td>4</td></tr>\n",
       "<tr><td>H2O cluster allowed cores:</td>\n",
       "<td>4</td></tr>\n",
       "<tr><td>H2O cluster status:</td>\n",
       "<td>locked, healthy</td></tr>\n",
       "<tr><td>H2O connection url:</td>\n",
       "<td>http://localhost:54321</td></tr>\n",
       "<tr><td>H2O connection proxy:</td>\n",
       "<td>None</td></tr>\n",
       "<tr><td>H2O internal security:</td>\n",
       "<td>False</td></tr>\n",
       "<tr><td>H2O API Extensions:</td>\n",
       "<td>Amazon S3, XGBoost, Algos, AutoML, Core V3, Core V4</td></tr>\n",
       "<tr><td>Python version:</td>\n",
       "<td>3.6.8 final</td></tr></table></div>"
      ],
      "text/plain": [
       "--------------------------  ---------------------------------------------------\n",
       "H2O cluster uptime:         54 mins 04 secs\n",
       "H2O cluster timezone:       America/Sao_Paulo\n",
       "H2O data parsing timezone:  UTC\n",
       "H2O cluster version:        3.24.0.3\n",
       "H2O cluster version age:    6 days\n",
       "H2O cluster name:           H2O_from_python_bruno_2ea3oe\n",
       "H2O cluster total nodes:    1\n",
       "H2O cluster free memory:    986 Mb\n",
       "H2O cluster total cores:    4\n",
       "H2O cluster allowed cores:  4\n",
       "H2O cluster status:         locked, healthy\n",
       "H2O connection url:         http://localhost:54321\n",
       "H2O connection proxy:\n",
       "H2O internal security:      False\n",
       "H2O API Extensions:         Amazon S3, XGBoost, Algos, AutoML, Core V3, Core V4\n",
       "Python version:             3.6.8 final\n",
       "--------------------------  ---------------------------------------------------"
      ]
     },
     "metadata": {},
     "output_type": "display_data"
    }
   ],
   "source": [
    "from h2o.automl import H2OAutoML\n",
    "h2o.init()"
   ]
  },
  {
   "cell_type": "code",
   "execution_count": 22,
   "metadata": {},
   "outputs": [
    {
     "name": "stdout",
     "output_type": "stream",
     "text": [
      "(13314, 44)\n",
      "(3329, 44)\n",
      "<class 'pandas.core.frame.DataFrame'>\n",
      "Int64Index: 13314 entries, 12320 to 17334\n",
      "Data columns (total 44 columns):\n",
      "Age                     13314 non-null int64\n",
      "Overall                 13314 non-null int64\n",
      "Preferred Foot          13314 non-null int64\n",
      "Skill Moves             13314 non-null float64\n",
      "Crossing                13314 non-null float64\n",
      "Finishing               13314 non-null float64\n",
      "HeadingAccuracy         13314 non-null float64\n",
      "ShortPassing            13314 non-null float64\n",
      "Volleys                 13314 non-null float64\n",
      "Dribbling               13314 non-null float64\n",
      "Curve                   13314 non-null float64\n",
      "FKAccuracy              13314 non-null float64\n",
      "LongPassing             13314 non-null float64\n",
      "BallControl             13314 non-null float64\n",
      "Acceleration            13314 non-null float64\n",
      "SprintSpeed             13314 non-null float64\n",
      "Agility                 13314 non-null float64\n",
      "Reactions               13314 non-null float64\n",
      "Balance                 13314 non-null float64\n",
      "ShotPower               13314 non-null float64\n",
      "Jumping                 13314 non-null float64\n",
      "Stamina                 13314 non-null float64\n",
      "Strength                13314 non-null float64\n",
      "LongShots               13314 non-null float64\n",
      "Aggression              13314 non-null float64\n",
      "Interceptions           13314 non-null float64\n",
      "Positioning             13314 non-null float64\n",
      "Vision                  13314 non-null float64\n",
      "Penalties               13314 non-null float64\n",
      "Composure               13314 non-null float64\n",
      "Marking                 13314 non-null float64\n",
      "StandingTackle          13314 non-null float64\n",
      "SlidingTackle           13314 non-null float64\n",
      "GKDiving                13314 non-null float64\n",
      "GKHandling              13314 non-null float64\n",
      "GKKicking               13314 non-null float64\n",
      "GKPositioning           13314 non-null float64\n",
      "GKReflexes              13314 non-null float64\n",
      "Value_float             13314 non-null float64\n",
      "Wage_float              13314 non-null float64\n",
      "Release_Clause_float    13314 non-null float64\n",
      "Weight_int              13314 non-null int64\n",
      "Height_int              13314 non-null float64\n",
      "Pos                     13314 non-null int64\n",
      "dtypes: float64(39), int64(5)\n",
      "memory usage: 4.6 MB\n",
      "None\n"
     ]
    }
   ],
   "source": [
    "import pandas as pd\n",
    "from sklearn import preprocessing\n",
    "import matplotlib.pyplot as plt\n",
    "\n",
    "# Path of the file to read\n",
    "fifa_filepath = \"data.csv\"\n",
    "# Read the file into a variable iris_data\n",
    "data = pd.read_csv(fifa_filepath)\n",
    "# Print the first 5 rows of the data\n",
    "data.head()\n",
    "\n",
    "\n",
    "df2 = data.loc[:, 'Crossing':'Release Clause']\n",
    "df1 = data[['Age', 'Overall', 'Value', 'Wage', 'Preferred Foot', 'Skill Moves', 'Position', 'Height', 'Weight']]\n",
    "df = pd.concat([df1, df2], axis=1)\n",
    "\n",
    "df = df.dropna()\n",
    "\n",
    "def value_to_int(df_value):\n",
    "    try:\n",
    "        value = float(df_value[1:-1])\n",
    "        suffix = df_value[-1:]\n",
    "\n",
    "        if suffix == 'M':\n",
    "            value = value * 1000000\n",
    "        elif suffix == 'K':\n",
    "            value = value * 1000\n",
    "    except ValueError:\n",
    "        value = 0\n",
    "    return value\n",
    "  \n",
    "df['Value_float'] = df['Value'].apply(value_to_int)\n",
    "df['Wage_float'] = df['Wage'].apply(value_to_int)\n",
    "df['Release_Clause_float'] = df['Release Clause'].apply(lambda m: value_to_int(m))\n",
    "\n",
    "def weight_to_int(df_weight):\n",
    "    value = df_weight[:-3]\n",
    "    return value\n",
    "  \n",
    "df['Weight_int'] = df['Weight'].apply(weight_to_int)\n",
    "df['Weight_int'] = df['Weight_int'].apply(lambda x: int(x))\n",
    "\n",
    "def height_to_int(df_height):\n",
    "    try:\n",
    "        feet = int(df_height[0])\n",
    "        dlm = df_height[-2]\n",
    "\n",
    "        if dlm == \"'\":\n",
    "            height = round((feet * 12 + int(df_height[-1])) * 2.54, 0)\n",
    "        elif dlm != \"'\":\n",
    "            height = round((feet * 12 + int(df_height[-2:])) * 2.54, 0)\n",
    "    except ValueError:\n",
    "        height = 0\n",
    "    return height\n",
    "\n",
    "df['Height_int'] = df['Height'].apply(height_to_int)\n",
    "\n",
    "\n",
    "df = df.drop(['Value', 'Wage', 'Release Clause', 'Weight', 'Height'], axis=1)\n",
    "\n",
    "le_foot = preprocessing.LabelEncoder()\n",
    "df[\"Preferred Foot\"] = le_foot.fit_transform(df[\"Preferred Foot\"].values)\n",
    "\n",
    "\n",
    "for i in ['ST', 'CF', 'LF', 'LS', 'LW', 'RF', 'RS', 'RW']:\n",
    "  df.loc[df.Position == i , 'Pos'] = 'Strikers' \n",
    "\n",
    "for i in ['CAM', 'CDM', 'LCM', 'CM', 'LAM', 'LDM', 'LM', 'RAM', 'RCM', 'RDM', 'RM']:\n",
    "  df.loc[df.Position == i , 'Pos'] = 'Midfielder' \n",
    "\n",
    "for i in ['CB', 'LB', 'LCB', 'LWB', 'RB', 'RCB', 'RWB','GK']:\n",
    "  df.loc[df.Position == i , 'Pos'] = 'Defender' \n",
    "\n",
    "\n",
    "from sklearn import datasets, linear_model\n",
    "from sklearn.model_selection import cross_val_score\n",
    "lasso = linear_model.Lasso()\n",
    "from sklearn.model_selection import train_test_split\n",
    "\n",
    "le_class = preprocessing.LabelEncoder()\n",
    "\n",
    "df['Pos'] = le_class.fit_transform(df['Pos'])\n",
    "\n",
    "y = df[\"Pos\"]\n",
    "\n",
    "df.drop(columns=[\"Position\"],inplace=True)\n",
    "\n",
    "\n",
    "X_train, X_test, y_train, y_test = train_test_split(df, y, \n",
    "                                                    test_size=0.20, \n",
    "                                                    random_state=42 )\n",
    "print(X_train.shape)\n",
    "print(X_test.shape)\n",
    "\n",
    "print(X_train.info())"
   ]
  },
  {
   "cell_type": "code",
   "execution_count": 24,
   "metadata": {},
   "outputs": [
    {
     "name": "stdout",
     "output_type": "stream",
     "text": [
      "Parse progress: |█████████████████████████████████████████████████████████| 100%\n",
      "Parse progress: |█████████████████████████████████████████████████████████| 100%\n",
      "AutoML progress: |████████████████████████████████████████████████████████| 100%\n"
     ]
    },
    {
     "data": {
      "text/html": [
       "<table>\n",
       "<thead>\n",
       "<tr><th>model_id                                           </th><th style=\"text-align: right;\">  mean_residual_deviance</th><th style=\"text-align: right;\">    rmse</th><th style=\"text-align: right;\">      mse</th><th style=\"text-align: right;\">     mae</th><th style=\"text-align: right;\">   rmsle</th></tr>\n",
       "</thead>\n",
       "<tbody>\n",
       "<tr><td>StackedEnsemble_AllModels_AutoML_20190513_133705   </td><td style=\"text-align: right;\">               0.0860701</td><td style=\"text-align: right;\">0.293377</td><td style=\"text-align: right;\">0.0860701</td><td style=\"text-align: right;\">0.179592</td><td style=\"text-align: right;\">0.162888</td></tr>\n",
       "<tr><td>StackedEnsemble_BestOfFamily_AutoML_20190513_133705</td><td style=\"text-align: right;\">               0.0867562</td><td style=\"text-align: right;\">0.294544</td><td style=\"text-align: right;\">0.0867562</td><td style=\"text-align: right;\">0.179373</td><td style=\"text-align: right;\">0.163623</td></tr>\n",
       "<tr><td>XGBoost_2_AutoML_20190513_133705                   </td><td style=\"text-align: right;\">               0.0904843</td><td style=\"text-align: right;\">0.300806</td><td style=\"text-align: right;\">0.0904843</td><td style=\"text-align: right;\">0.18588 </td><td style=\"text-align: right;\">0.168444</td></tr>\n",
       "<tr><td>XGBoost_1_AutoML_20190513_133705                   </td><td style=\"text-align: right;\">               0.0905592</td><td style=\"text-align: right;\">0.300931</td><td style=\"text-align: right;\">0.0905592</td><td style=\"text-align: right;\">0.186396</td><td style=\"text-align: right;\">0.168471</td></tr>\n",
       "<tr><td>DeepLearning_1_AutoML_20190513_133705              </td><td style=\"text-align: right;\">               0.0915764</td><td style=\"text-align: right;\">0.302616</td><td style=\"text-align: right;\">0.0915764</td><td style=\"text-align: right;\">0.18553 </td><td style=\"text-align: right;\">0.168618</td></tr>\n",
       "<tr><td>XGBoost_grid_1_AutoML_20190513_133705_model_2      </td><td style=\"text-align: right;\">               0.0934695</td><td style=\"text-align: right;\">0.305728</td><td style=\"text-align: right;\">0.0934695</td><td style=\"text-align: right;\">0.192263</td><td style=\"text-align: right;\">0.172145</td></tr>\n",
       "<tr><td>GBM_2_AutoML_20190513_133705                       </td><td style=\"text-align: right;\">               0.0934829</td><td style=\"text-align: right;\">0.30575 </td><td style=\"text-align: right;\">0.0934829</td><td style=\"text-align: right;\">0.192013</td><td style=\"text-align: right;\">0.172208</td></tr>\n",
       "<tr><td>GBM_5_AutoML_20190513_133705                       </td><td style=\"text-align: right;\">               0.0935353</td><td style=\"text-align: right;\">0.305835</td><td style=\"text-align: right;\">0.0935353</td><td style=\"text-align: right;\">0.198522</td><td style=\"text-align: right;\">0.172464</td></tr>\n",
       "<tr><td>GBM_3_AutoML_20190513_133705                       </td><td style=\"text-align: right;\">               0.0936547</td><td style=\"text-align: right;\">0.30603 </td><td style=\"text-align: right;\">0.0936547</td><td style=\"text-align: right;\">0.190319</td><td style=\"text-align: right;\">0.171983</td></tr>\n",
       "<tr><td>GBM_4_AutoML_20190513_133705                       </td><td style=\"text-align: right;\">               0.093863 </td><td style=\"text-align: right;\">0.306371</td><td style=\"text-align: right;\">0.093863 </td><td style=\"text-align: right;\">0.189605</td><td style=\"text-align: right;\">0.172206</td></tr>\n",
       "<tr><td>XGBoost_grid_1_AutoML_20190513_133705_model_3      </td><td style=\"text-align: right;\">               0.0939073</td><td style=\"text-align: right;\">0.306443</td><td style=\"text-align: right;\">0.0939073</td><td style=\"text-align: right;\">0.200337</td><td style=\"text-align: right;\">0.173326</td></tr>\n",
       "<tr><td>GBM_1_AutoML_20190513_133705                       </td><td style=\"text-align: right;\">               0.0941062</td><td style=\"text-align: right;\">0.306767</td><td style=\"text-align: right;\">0.0941062</td><td style=\"text-align: right;\">0.195889</td><td style=\"text-align: right;\">0.173539</td></tr>\n",
       "<tr><td>XGBoost_grid_1_AutoML_20190513_133705_model_1      </td><td style=\"text-align: right;\">               0.0942293</td><td style=\"text-align: right;\">0.306968</td><td style=\"text-align: right;\">0.0942293</td><td style=\"text-align: right;\">0.202394</td><td style=\"text-align: right;\">0.17381 </td></tr>\n",
       "<tr><td>XGBoost_grid_1_AutoML_20190513_133705_model_4      </td><td style=\"text-align: right;\">               0.0942836</td><td style=\"text-align: right;\">0.307056</td><td style=\"text-align: right;\">0.0942836</td><td style=\"text-align: right;\">0.199141</td><td style=\"text-align: right;\">0.173714</td></tr>\n",
       "<tr><td>XGBoost_3_AutoML_20190513_133705                   </td><td style=\"text-align: right;\">               0.0948994</td><td style=\"text-align: right;\">0.308057</td><td style=\"text-align: right;\">0.0948994</td><td style=\"text-align: right;\">0.202648</td><td style=\"text-align: right;\">0.174838</td></tr>\n",
       "<tr><td>XRT_1_AutoML_20190513_133705                       </td><td style=\"text-align: right;\">               0.0949822</td><td style=\"text-align: right;\">0.308192</td><td style=\"text-align: right;\">0.0949822</td><td style=\"text-align: right;\">0.200187</td><td style=\"text-align: right;\">0.17496 </td></tr>\n",
       "<tr><td>GBM_grid_1_AutoML_20190513_133705_model_1          </td><td style=\"text-align: right;\">               0.0950365</td><td style=\"text-align: right;\">0.30828 </td><td style=\"text-align: right;\">0.0950365</td><td style=\"text-align: right;\">0.186861</td><td style=\"text-align: right;\">0.172572</td></tr>\n",
       "<tr><td>DRF_1_AutoML_20190513_133705                       </td><td style=\"text-align: right;\">               0.0952466</td><td style=\"text-align: right;\">0.308621</td><td style=\"text-align: right;\">0.0952466</td><td style=\"text-align: right;\">0.199342</td><td style=\"text-align: right;\">0.174716</td></tr>\n",
       "<tr><td>DeepLearning_grid_1_AutoML_20190513_133705_model_1 </td><td style=\"text-align: right;\">               0.0995351</td><td style=\"text-align: right;\">0.315492</td><td style=\"text-align: right;\">0.0995351</td><td style=\"text-align: right;\">0.219465</td><td style=\"text-align: right;\">0.185874</td></tr>\n",
       "<tr><td>DeepLearning_grid_1_AutoML_20190513_133705_model_2 </td><td style=\"text-align: right;\">               0.109593 </td><td style=\"text-align: right;\">0.331049</td><td style=\"text-align: right;\">0.109593 </td><td style=\"text-align: right;\">0.229764</td><td style=\"text-align: right;\">0.193661</td></tr>\n",
       "<tr><td>GBM_grid_1_AutoML_20190513_133705_model_2          </td><td style=\"text-align: right;\">               0.12214  </td><td style=\"text-align: right;\">0.349485</td><td style=\"text-align: right;\">0.12214  </td><td style=\"text-align: right;\">0.225445</td><td style=\"text-align: right;\">0.199477</td></tr>\n",
       "<tr><td>GLM_grid_1_AutoML_20190513_133705_model_1          </td><td style=\"text-align: right;\">               0.12468  </td><td style=\"text-align: right;\">0.353101</td><td style=\"text-align: right;\">0.12468  </td><td style=\"text-align: right;\">0.273675</td><td style=\"text-align: right;\">0.216535</td></tr>\n",
       "</tbody>\n",
       "</table>"
      ]
     },
     "metadata": {},
     "output_type": "display_data"
    },
    {
     "data": {
      "text/plain": []
     },
     "execution_count": 24,
     "metadata": {},
     "output_type": "execute_result"
    }
   ],
   "source": [
    "\n",
    "# Import a sample binary outcome train/test set into H2O\n",
    "\n",
    "train = h2o.H2OFrame.from_python(X_train)\n",
    "test = h2o.H2OFrame.from_python(X_test)\n",
    "\n",
    "\n",
    "# Identify predictors and response\n",
    "x = train.columns\n",
    "y = \"Pos\"\n",
    "\n",
    "\n",
    "# Run AutoML for 20 base models (limited to 1 hour max runtime by default)\n",
    "aml = H2OAutoML(max_models=20, seed=1)\n",
    "aml.train(x=x, y=y, training_frame=train)\n",
    "\n",
    "# View the AutoML Leaderboard\n",
    "lb = aml.leaderboard\n",
    "lb.head(rows=lb.nrows)  # Print all rows instead of default (10 rows)"
   ]
  },
  {
   "cell_type": "code",
   "execution_count": 34,
   "metadata": {},
   "outputs": [
    {
     "name": "stdout",
     "output_type": "stream",
     "text": [
      "stackedensemble prediction progress: |████████████████████████████████████| 100%\n",
      "stackedensemble prediction progress: |████████████████████████████████████| 100%\n"
     ]
    },
    {
     "data": {
      "text/html": [
       "<table>\n",
       "<thead>\n",
       "<tr><th style=\"text-align: right;\">    predict</th></tr>\n",
       "</thead>\n",
       "<tbody>\n",
       "<tr><td style=\"text-align: right;\"> 0.00152002</td></tr>\n",
       "<tr><td style=\"text-align: right;\"> 0.700698  </td></tr>\n",
       "<tr><td style=\"text-align: right;\"> 1.77017   </td></tr>\n",
       "<tr><td style=\"text-align: right;\"> 1.16616   </td></tr>\n",
       "<tr><td style=\"text-align: right;\">-0.0225859 </td></tr>\n",
       "<tr><td style=\"text-align: right;\"> 0.925879  </td></tr>\n",
       "<tr><td style=\"text-align: right;\"> 0.933315  </td></tr>\n",
       "<tr><td style=\"text-align: right;\"> 1.06821   </td></tr>\n",
       "<tr><td style=\"text-align: right;\"> 0.976231  </td></tr>\n",
       "<tr><td style=\"text-align: right;\"> 1.73504   </td></tr>\n",
       "</tbody>\n",
       "</table>"
      ]
     },
     "metadata": {},
     "output_type": "display_data"
    },
    {
     "name": "stdout",
     "output_type": "stream",
     "text": [
      "\n"
     ]
    }
   ],
   "source": [
    "\n",
    "# The leader model is stored here\n",
    "aml.leader\n",
    "\n",
    "# If you need to generate predictions on a test set, you can make\n",
    "# predictions directly on the `\"H2OAutoML\"` object, or on the leader\n",
    "# model object directly\n",
    "\n",
    "preds = aml.predict(test)\n",
    "\n",
    "# or:\n",
    "preds = aml.leader.predict(test)\n",
    "\n",
    "print(preds)"
   ]
  },
  {
   "cell_type": "code",
   "execution_count": 33,
   "metadata": {},
   "outputs": [
    {
     "data": {
      "text/html": [
       "<table>\n",
       "<thead>\n",
       "<tr><th style=\"text-align: right;\">    predict</th></tr>\n",
       "</thead>\n",
       "<tbody>\n",
       "<tr><td style=\"text-align: right;\"> 0.00152002</td></tr>\n",
       "<tr><td style=\"text-align: right;\"> 0.700698  </td></tr>\n",
       "<tr><td style=\"text-align: right;\"> 1.77017   </td></tr>\n",
       "<tr><td style=\"text-align: right;\"> 1.16616   </td></tr>\n",
       "<tr><td style=\"text-align: right;\">-0.0225859 </td></tr>\n",
       "<tr><td style=\"text-align: right;\"> 0.925879  </td></tr>\n",
       "<tr><td style=\"text-align: right;\"> 0.933315  </td></tr>\n",
       "<tr><td style=\"text-align: right;\"> 1.06821   </td></tr>\n",
       "<tr><td style=\"text-align: right;\"> 0.976231  </td></tr>\n",
       "<tr><td style=\"text-align: right;\"> 1.73504   </td></tr>\n",
       "</tbody>\n",
       "</table>"
      ]
     },
     "metadata": {},
     "output_type": "display_data"
    },
    {
     "ename": "ValueError",
     "evalue": "Expected array-like (array or non-string sequence), got ",
     "output_type": "error",
     "traceback": [
      "\u001b[0;31m---------------------------------------------------------------------------\u001b[0m",
      "\u001b[0;31mValueError\u001b[0m                                Traceback (most recent call last)",
      "\u001b[0;32m<ipython-input-33-351adbf83076>\u001b[0m in \u001b[0;36m<module>\u001b[0;34m\u001b[0m\n\u001b[1;32m      6\u001b[0m \u001b[0;31m#cf = confusion_matrix(y_test, preds)\u001b[0m\u001b[0;34m\u001b[0m\u001b[0;34m\u001b[0m\u001b[0;34m\u001b[0m\u001b[0m\n\u001b[1;32m      7\u001b[0m \u001b[0;34m\u001b[0m\u001b[0m\n\u001b[0;32m----> 8\u001b[0;31m \u001b[0maccuracy_score\u001b[0m\u001b[0;34m(\u001b[0m\u001b[0my_test\u001b[0m\u001b[0;34m,\u001b[0m \u001b[0mpreds\u001b[0m\u001b[0;34m)\u001b[0m\u001b[0;34m\u001b[0m\u001b[0;34m\u001b[0m\u001b[0m\n\u001b[0m",
      "\u001b[0;32m~/anaconda3/envs/automl-3.6/lib/python3.6/site-packages/sklearn/metrics/classification.py\u001b[0m in \u001b[0;36maccuracy_score\u001b[0;34m(y_true, y_pred, normalize, sample_weight)\u001b[0m\n\u001b[1;32m    174\u001b[0m \u001b[0;34m\u001b[0m\u001b[0m\n\u001b[1;32m    175\u001b[0m     \u001b[0;31m# Compute accuracy for each possible representation\u001b[0m\u001b[0;34m\u001b[0m\u001b[0;34m\u001b[0m\u001b[0;34m\u001b[0m\u001b[0m\n\u001b[0;32m--> 176\u001b[0;31m     \u001b[0my_type\u001b[0m\u001b[0;34m,\u001b[0m \u001b[0my_true\u001b[0m\u001b[0;34m,\u001b[0m \u001b[0my_pred\u001b[0m \u001b[0;34m=\u001b[0m \u001b[0m_check_targets\u001b[0m\u001b[0;34m(\u001b[0m\u001b[0my_true\u001b[0m\u001b[0;34m,\u001b[0m \u001b[0my_pred\u001b[0m\u001b[0;34m)\u001b[0m\u001b[0;34m\u001b[0m\u001b[0;34m\u001b[0m\u001b[0m\n\u001b[0m\u001b[1;32m    177\u001b[0m     \u001b[0mcheck_consistent_length\u001b[0m\u001b[0;34m(\u001b[0m\u001b[0my_true\u001b[0m\u001b[0;34m,\u001b[0m \u001b[0my_pred\u001b[0m\u001b[0;34m,\u001b[0m \u001b[0msample_weight\u001b[0m\u001b[0;34m)\u001b[0m\u001b[0;34m\u001b[0m\u001b[0;34m\u001b[0m\u001b[0m\n\u001b[1;32m    178\u001b[0m     \u001b[0;32mif\u001b[0m \u001b[0my_type\u001b[0m\u001b[0;34m.\u001b[0m\u001b[0mstartswith\u001b[0m\u001b[0;34m(\u001b[0m\u001b[0;34m'multilabel'\u001b[0m\u001b[0;34m)\u001b[0m\u001b[0;34m:\u001b[0m\u001b[0;34m\u001b[0m\u001b[0;34m\u001b[0m\u001b[0m\n",
      "\u001b[0;32m~/anaconda3/envs/automl-3.6/lib/python3.6/site-packages/sklearn/metrics/classification.py\u001b[0m in \u001b[0;36m_check_targets\u001b[0;34m(y_true, y_pred)\u001b[0m\n\u001b[1;32m     71\u001b[0m     \u001b[0mcheck_consistent_length\u001b[0m\u001b[0;34m(\u001b[0m\u001b[0my_true\u001b[0m\u001b[0;34m,\u001b[0m \u001b[0my_pred\u001b[0m\u001b[0;34m)\u001b[0m\u001b[0;34m\u001b[0m\u001b[0;34m\u001b[0m\u001b[0m\n\u001b[1;32m     72\u001b[0m     \u001b[0mtype_true\u001b[0m \u001b[0;34m=\u001b[0m \u001b[0mtype_of_target\u001b[0m\u001b[0;34m(\u001b[0m\u001b[0my_true\u001b[0m\u001b[0;34m)\u001b[0m\u001b[0;34m\u001b[0m\u001b[0;34m\u001b[0m\u001b[0m\n\u001b[0;32m---> 73\u001b[0;31m     \u001b[0mtype_pred\u001b[0m \u001b[0;34m=\u001b[0m \u001b[0mtype_of_target\u001b[0m\u001b[0;34m(\u001b[0m\u001b[0my_pred\u001b[0m\u001b[0;34m)\u001b[0m\u001b[0;34m\u001b[0m\u001b[0;34m\u001b[0m\u001b[0m\n\u001b[0m\u001b[1;32m     74\u001b[0m \u001b[0;34m\u001b[0m\u001b[0m\n\u001b[1;32m     75\u001b[0m     \u001b[0my_type\u001b[0m \u001b[0;34m=\u001b[0m \u001b[0mset\u001b[0m\u001b[0;34m(\u001b[0m\u001b[0;34m[\u001b[0m\u001b[0mtype_true\u001b[0m\u001b[0;34m,\u001b[0m \u001b[0mtype_pred\u001b[0m\u001b[0;34m]\u001b[0m\u001b[0;34m)\u001b[0m\u001b[0;34m\u001b[0m\u001b[0;34m\u001b[0m\u001b[0m\n",
      "\u001b[0;32m~/anaconda3/envs/automl-3.6/lib/python3.6/site-packages/sklearn/utils/multiclass.py\u001b[0m in \u001b[0;36mtype_of_target\u001b[0;34m(y)\u001b[0m\n\u001b[1;32m    241\u001b[0m     \u001b[0;32mif\u001b[0m \u001b[0;32mnot\u001b[0m \u001b[0mvalid\u001b[0m\u001b[0;34m:\u001b[0m\u001b[0;34m\u001b[0m\u001b[0;34m\u001b[0m\u001b[0m\n\u001b[1;32m    242\u001b[0m         raise ValueError('Expected array-like (array or non-string sequence), '\n\u001b[0;32m--> 243\u001b[0;31m                          'got %r' % y)\n\u001b[0m\u001b[1;32m    244\u001b[0m \u001b[0;34m\u001b[0m\u001b[0m\n\u001b[1;32m    245\u001b[0m     \u001b[0msparseseries\u001b[0m \u001b[0;34m=\u001b[0m \u001b[0;34m(\u001b[0m\u001b[0my\u001b[0m\u001b[0;34m.\u001b[0m\u001b[0m__class__\u001b[0m\u001b[0;34m.\u001b[0m\u001b[0m__name__\u001b[0m \u001b[0;34m==\u001b[0m \u001b[0;34m'SparseSeries'\u001b[0m\u001b[0;34m)\u001b[0m\u001b[0;34m\u001b[0m\u001b[0;34m\u001b[0m\u001b[0m\n",
      "\u001b[0;31mValueError\u001b[0m: Expected array-like (array or non-string sequence), got "
     ]
    }
   ],
   "source": [
    "from sklearn.model_selection import cross_val_score\n",
    "from sklearn.metrics import confusion_matrix\n",
    "from sklearn.metrics import accuracy_score\n",
    "\n",
    "\n",
    "cf = confusion_matrix(y_test, preds)\n",
    "\n",
    "accuracy_score(y_test, preds)"
   ]
  },
  {
   "cell_type": "code",
   "execution_count": null,
   "metadata": {},
   "outputs": [],
   "source": []
  }
 ],
 "metadata": {
  "kernelspec": {
   "display_name": "Python 3",
   "language": "python",
   "name": "python3"
  },
  "language_info": {
   "codemirror_mode": {
    "name": "ipython",
    "version": 3
   },
   "file_extension": ".py",
   "mimetype": "text/x-python",
   "name": "python",
   "nbconvert_exporter": "python",
   "pygments_lexer": "ipython3",
   "version": "3.6.8"
  }
 },
 "nbformat": 4,
 "nbformat_minor": 2
}
