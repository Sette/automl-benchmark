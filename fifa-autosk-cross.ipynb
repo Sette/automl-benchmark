{
 "cells": [
  {
   "cell_type": "code",
   "execution_count": 1,
   "metadata": {},
   "outputs": [],
   "source": [
    "%matplotlib inline"
   ]
  },
  {
   "cell_type": "markdown",
   "metadata": {},
   "source": [
    "\n",
    "# Cross-Validation\n",
    "\n",
    "\n",
    "In *auto-sklearn* it is possible to use different resampling strategies\n",
    "by specifying the arguments ``resampling_strategy`` and\n",
    "``resampling_strategy_arguments``. The following example shows how to use\n",
    "cross-validation and how to set the folds when instantiating\n",
    "``AutoSklearnClassifier``.\n",
    "\n"
   ]
  },
  {
   "cell_type": "code",
   "execution_count": 5,
   "metadata": {},
   "outputs": [
    {
     "name": "stderr",
     "output_type": "stream",
     "text": [
      "Exception ignored in: <function BackendContext.__del__ at 0x7f0752d3c730>\n",
      "Traceback (most recent call last):\n",
      "  File \"/home/bruno/anaconda3/lib/python3.7/site-packages/autosklearn/util/backend.py\", line 127, in __del__\n",
      "    self.delete_directories(force=False)\n",
      "  File \"/home/bruno/anaconda3/lib/python3.7/site-packages/autosklearn/util/backend.py\", line 136, in delete_directories\n",
      "    \"auto-sklearn.\" % self.output_directory)\n",
      "ValueError: Failed to delete output dir: /tmp/autosklearn_cv_example_out because auto-sklearn did not create it. Please make sure that the specified output dir does not exist when instantiating auto-sklearn.\n"
     ]
    },
    {
     "name": "stdout",
     "output_type": "stream",
     "text": [
      "[WARNING] [2019-05-14 16:53:10,734:EnsembleBuilder(1):fifa] No models better than random - using Dummy Score!\n",
      "[WARNING] [2019-05-14 16:53:10,749:EnsembleBuilder(1):fifa] No models better than random - using Dummy Score!\n",
      "[WARNING] [2019-05-14 16:53:12,754:EnsembleBuilder(1):fifa] No models better than random - using Dummy Score!\n",
      "[WARNING] [2019-05-14 16:53:14,761:EnsembleBuilder(1):fifa] No models better than random - using Dummy Score!\n",
      "[WARNING] [2019-05-14 16:53:16,769:EnsembleBuilder(1):fifa] No models better than random - using Dummy Score!\n",
      "[WARNING] [2019-05-14 16:53:18,778:EnsembleBuilder(1):fifa] No models better than random - using Dummy Score!\n",
      "[WARNING] [2019-05-14 16:53:20,785:EnsembleBuilder(1):fifa] No models better than random - using Dummy Score!\n",
      "[WARNING] [2019-05-14 16:53:22,791:EnsembleBuilder(1):fifa] No models better than random - using Dummy Score!\n",
      "[WARNING] [2019-05-14 16:53:24,797:EnsembleBuilder(1):fifa] No models better than random - using Dummy Score!\n",
      "[WARNING] [2019-05-14 16:53:26,803:EnsembleBuilder(1):fifa] No models better than random - using Dummy Score!\n",
      "[WARNING] [2019-05-14 16:53:28,814:EnsembleBuilder(1):fifa] No models better than random - using Dummy Score!\n",
      "[WARNING] [2019-05-14 16:53:30,819:EnsembleBuilder(1):fifa] No models better than random - using Dummy Score!\n",
      "[WARNING] [2019-05-14 16:53:32,826:EnsembleBuilder(1):fifa] No models better than random - using Dummy Score!\n",
      "1\n",
      "['/tmp/autosklearn_cv_example_tmp/.auto-sklearn/ensembles/1.0000000000.ensemble', '/tmp/autosklearn_cv_example_tmp/.auto-sklearn/ensembles/1.0000000001.ensemble', '/tmp/autosklearn_cv_example_tmp/.auto-sklearn/ensembles/1.0000000002.ensemble']\n",
      "[(0.960000, SimpleClassificationPipeline({'balancing:strategy': 'none', 'categorical_encoding:__choice__': 'one_hot_encoding', 'classifier:__choice__': 'random_forest', 'imputation:strategy': 'mean', 'preprocessor:__choice__': 'no_preprocessing', 'rescaling:__choice__': 'standardize', 'categorical_encoding:one_hot_encoding:use_minimum_fraction': 'True', 'classifier:random_forest:bootstrap': 'True', 'classifier:random_forest:criterion': 'gini', 'classifier:random_forest:max_depth': 'None', 'classifier:random_forest:max_features': 0.5, 'classifier:random_forest:max_leaf_nodes': 'None', 'classifier:random_forest:min_impurity_decrease': 0.0, 'classifier:random_forest:min_samples_leaf': 1, 'classifier:random_forest:min_samples_split': 2, 'classifier:random_forest:min_weight_fraction_leaf': 0.0, 'classifier:random_forest:n_estimators': 100, 'categorical_encoding:one_hot_encoding:minimum_fraction': 0.01},\n",
      "dataset_properties={\n",
      "  'task': 2,\n",
      "  'sparse': False,\n",
      "  'multilabel': False,\n",
      "  'multiclass': True,\n",
      "  'target_type': 'classification',\n",
      "  'signed': False})),\n",
      "(0.040000, SimpleClassificationPipeline({'balancing:strategy': 'weighting', 'categorical_encoding:__choice__': 'one_hot_encoding', 'classifier:__choice__': 'sgd', 'imputation:strategy': 'median', 'preprocessor:__choice__': 'fast_ica', 'rescaling:__choice__': 'minmax', 'categorical_encoding:one_hot_encoding:use_minimum_fraction': 'False', 'classifier:sgd:alpha': 3.27041927277584e-06, 'classifier:sgd:average': 'True', 'classifier:sgd:fit_intercept': 'True', 'classifier:sgd:learning_rate': 'invscaling', 'classifier:sgd:loss': 'modified_huber', 'classifier:sgd:penalty': 'elasticnet', 'classifier:sgd:tol': 0.05517964277254504, 'preprocessor:fast_ica:algorithm': 'parallel', 'preprocessor:fast_ica:fun': 'cube', 'preprocessor:fast_ica:whiten': 'False', 'classifier:sgd:epsilon': 0.00010000000000000009, 'classifier:sgd:eta0': 0.033157325660763994, 'classifier:sgd:l1_ratio': 0.0008114527992546483, 'classifier:sgd:power_t': 0.13714427818877545},\n",
      "dataset_properties={\n",
      "  'task': 2,\n",
      "  'sparse': False,\n",
      "  'multilabel': False,\n",
      "  'multiclass': True,\n",
      "  'target_type': 'classification',\n",
      "  'signed': False})),\n",
      "]\n",
      "Accuracy score 0.8867527786121958\n"
     ]
    }
   ],
   "source": [
    "import sklearn.model_selection\n",
    "import sklearn.datasets\n",
    "import sklearn.metrics\n",
    "from fi_utils import load_dataset\n",
    "import autosklearn.classification\n",
    "\n",
    "\n",
    "def main():\n",
    "    X, y = load_dataset()\n",
    "    X_train, X_test, y_train, y_test = \\\n",
    "        sklearn.model_selection.train_test_split(X, y, test_size=0.20, \n",
    "                                                    random_state=42)\n",
    "\n",
    "    automl = autosklearn.classification.AutoSklearnClassifier(\n",
    "        time_left_for_this_task=120,\n",
    "        per_run_time_limit=30,\n",
    "        tmp_folder='/tmp/autosklearn_cv_example_tmp',\n",
    "        output_folder='/tmp/autosklearn_cv_example_out',\n",
    "        delete_tmp_folder_after_terminate=True,\n",
    "        resampling_strategy='cv',\n",
    "        resampling_strategy_arguments={'cv': {'folds': 5}},\n",
    "    )\n",
    "\n",
    "    # fit() changes the data in place, but refit needs the original data. We\n",
    "    # therefore copy the data. In practice, one should reload the data\n",
    "    automl.fit(X_train.copy(), y_train.copy(), dataset_name='fifa')\n",
    "    # During fit(), models are fit on individual cross-validation folds. To use\n",
    "    # all available data, we call refit() which trains all models in the\n",
    "    # final ensemble on the whole dataset.\n",
    "    automl.refit(X_train.copy(), y_train.copy())\n",
    "\n",
    "    print(automl.show_models())\n",
    "\n",
    "    predictions = automl.predict(X_test)\n",
    "    print(\"Accuracy score\", sklearn.metrics.accuracy_score(y_test, predictions))\n",
    "\n",
    "\n",
    "if __name__ == '__main__':\n",
    "    main()"
   ]
  },
  {
   "cell_type": "code",
   "execution_count": null,
   "metadata": {},
   "outputs": [],
   "source": []
  },
  {
   "cell_type": "code",
   "execution_count": null,
   "metadata": {},
   "outputs": [],
   "source": []
  },
  {
   "cell_type": "code",
   "execution_count": null,
   "metadata": {},
   "outputs": [],
   "source": []
  }
 ],
 "metadata": {
  "kernelspec": {
   "display_name": "Python 3",
   "language": "python",
   "name": "python3"
  },
  "language_info": {
   "codemirror_mode": {
    "name": "ipython",
    "version": 3
   },
   "file_extension": ".py",
   "mimetype": "text/x-python",
   "name": "python",
   "nbconvert_exporter": "python",
   "pygments_lexer": "ipython3",
   "version": "3.7.3"
  }
 },
 "nbformat": 4,
 "nbformat_minor": 1
}
